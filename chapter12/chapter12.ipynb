{
 "cells": [
  {
   "cell_type": "raw",
   "metadata": {},
   "source": [
    "فصل 12\n",
    "صفحه 188"
   ]
  },
  {
   "cell_type": "code",
   "execution_count": 1,
   "metadata": {},
   "outputs": [],
   "source": [
    "class A(object):\n",
    "    def show(self):\n",
    "        return self.__class__.__name__"
   ]
  },
  {
   "cell_type": "raw",
   "metadata": {},
   "source": [
    "فصل 12\n",
    "صفحه 189"
   ]
  },
  {
   "cell_type": "code",
   "execution_count": 2,
   "metadata": {},
   "outputs": [
    {
     "data": {
      "text/plain": [
       "'A'"
      ]
     },
     "execution_count": 2,
     "metadata": {},
     "output_type": "execute_result"
    }
   ],
   "source": [
    "a=A()\n",
    "a.show()\n"
   ]
  },
  {
   "cell_type": "raw",
   "metadata": {},
   "source": [
    "فصل 12\n",
    "صفحه 189"
   ]
  },
  {
   "cell_type": "code",
   "execution_count": 3,
   "metadata": {},
   "outputs": [],
   "source": [
    "class point(object):\n",
    "    def __init__(self,x,y):\n",
    "        self.X = x\n",
    "        self.Y = y\n",
    "    def show(self):\n",
    "        return self.X, self.Y\n",
    "\n"
   ]
  },
  {
   "cell_type": "raw",
   "metadata": {},
   "source": [
    "فصل 12\n",
    "صفحه 190"
   ]
  },
  {
   "cell_type": "code",
   "execution_count": 4,
   "metadata": {},
   "outputs": [
    {
     "ename": "TypeError",
     "evalue": "__init__() missing 2 required positional arguments: 'x' and 'y'",
     "output_type": "error",
     "traceback": [
      "\u001b[1;31m---------------------------------------------------------------------------\u001b[0m",
      "\u001b[1;31mTypeError\u001b[0m                                 Traceback (most recent call last)",
      "\u001b[1;32m<ipython-input-4-9ed6333782dc>\u001b[0m in \u001b[0;36m<module>\u001b[1;34m\u001b[0m\n\u001b[1;32m----> 1\u001b[1;33m \u001b[0mp1\u001b[0m\u001b[1;33m=\u001b[0m\u001b[0mpoint\u001b[0m\u001b[1;33m(\u001b[0m\u001b[1;33m)\u001b[0m\u001b[1;33m\u001b[0m\u001b[1;33m\u001b[0m\u001b[0m\n\u001b[0m",
      "\u001b[1;31mTypeError\u001b[0m: __init__() missing 2 required positional arguments: 'x' and 'y'"
     ]
    }
   ],
   "source": [
    "p1=point()"
   ]
  },
  {
   "cell_type": "code",
   "execution_count": null,
   "metadata": {},
   "outputs": [],
   "source": [
    "p1=point(12,23)"
   ]
  },
  {
   "cell_type": "code",
   "execution_count": null,
   "metadata": {},
   "outputs": [],
   "source": [
    "p1.X"
   ]
  },
  {
   "cell_type": "code",
   "execution_count": null,
   "metadata": {},
   "outputs": [],
   "source": [
    "p1.Y"
   ]
  },
  {
   "cell_type": "code",
   "execution_count": null,
   "metadata": {},
   "outputs": [],
   "source": [
    "p1.show()"
   ]
  },
  {
   "cell_type": "code",
   "execution_count": null,
   "metadata": {},
   "outputs": [],
   "source": [
    "p1.X=13"
   ]
  },
  {
   "cell_type": "code",
   "execution_count": null,
   "metadata": {},
   "outputs": [],
   "source": [
    "p1.X"
   ]
  },
  {
   "cell_type": "code",
   "execution_count": null,
   "metadata": {},
   "outputs": [],
   "source": [
    "class point(object):\n",
    "    def __init__(self,x,y):\n",
    "        self.__X=x\n",
    "        self.__Y=y\n",
    "    def show(self):\n",
    "        return self.__X, self.__Y"
   ]
  },
  {
   "cell_type": "raw",
   "metadata": {},
   "source": [
    "فصل 12\n",
    "صفحه 191"
   ]
  },
  {
   "cell_type": "code",
   "execution_count": null,
   "metadata": {},
   "outputs": [],
   "source": [
    "p1=point(25,33)\n",
    "p1.show()\n",
    "\n"
   ]
  },
  {
   "cell_type": "code",
   "execution_count": null,
   "metadata": {},
   "outputs": [],
   "source": [
    "p1._point__X"
   ]
  },
  {
   "cell_type": "code",
   "execution_count": null,
   "metadata": {},
   "outputs": [],
   "source": []
  },
  {
   "cell_type": "raw",
   "metadata": {},
   "source": [
    "فصل 12\n",
    "صفحه 191"
   ]
  },
  {
   "cell_type": "code",
   "execution_count": null,
   "metadata": {},
   "outputs": [],
   "source": [
    "class point(object):\n",
    "\tdef __init__(self,x,y):\n",
    "\t\tself.X=x\n",
    "\t\tself.Y=y\n",
    "\tdef __repr__(self):\n",
    "\t\treturn \"point({0.X!r}, {0.Y!r})\".format(self)\n",
    "\tdef __str__(self):\n",
    "\t\treturn \"x={0.X!s},y= {0.Y!s}\".format(self)\n"
   ]
  },
  {
   "cell_type": "code",
   "execution_count": null,
   "metadata": {},
   "outputs": [],
   "source": [
    "p1=point(12,23)"
   ]
  },
  {
   "cell_type": "code",
   "execution_count": null,
   "metadata": {},
   "outputs": [],
   "source": [
    "p1"
   ]
  },
  {
   "cell_type": "code",
   "execution_count": null,
   "metadata": {},
   "outputs": [],
   "source": [
    "\" p is {0!r}\".format(p1)"
   ]
  },
  {
   "cell_type": "code",
   "execution_count": null,
   "metadata": {},
   "outputs": [],
   "source": []
  },
  {
   "cell_type": "raw",
   "metadata": {},
   "source": [
    "فصل 12\n",
    "صفحه 192"
   ]
  },
  {
   "cell_type": "code",
   "execution_count": null,
   "metadata": {},
   "outputs": [],
   "source": [
    "print (p1)"
   ]
  },
  {
   "cell_type": "code",
   "execution_count": null,
   "metadata": {},
   "outputs": [],
   "source": [
    "\" p is {0}\".format(p1)"
   ]
  },
  {
   "cell_type": "code",
   "execution_count": null,
   "metadata": {},
   "outputs": [],
   "source": [
    "class point:\n",
    "\tdef __init__(self,x,y):\n",
    "\t\tself.x=x\n",
    "\t\tself.y=y\n",
    "\t@property\n",
    "\tdef hypot(self):\n",
    "\t\treturn (self.x ** 2 + self.y ** 2) ** 0.5\n",
    "\tdef __str__(self):\n",
    "\t     return '(x={0.x!s},y= {0.y!s}, distance={0.hypot!s})'.format(self)\n"
   ]
  },
  {
   "cell_type": "code",
   "execution_count": null,
   "metadata": {},
   "outputs": [],
   "source": [
    "p1=point(12,34)"
   ]
  },
  {
   "cell_type": "code",
   "execution_count": null,
   "metadata": {},
   "outputs": [],
   "source": [
    "p1"
   ]
  },
  {
   "cell_type": "code",
   "execution_count": null,
   "metadata": {},
   "outputs": [],
   "source": [
    " print(p1)"
   ]
  },
  {
   "cell_type": "code",
   "execution_count": null,
   "metadata": {},
   "outputs": [],
   "source": [
    "class point:\n",
    "\tdef __init__(self,x,y):\n",
    "\t\tself.x=x\n",
    "\t\tself.y=y\n",
    "\t@property\n",
    "\tdef x(self):\n",
    "\t\treturn self.__x\n",
    "\t@x.setter\n",
    "\tdef x(self, x):\n",
    "\t\tif x<0:\n",
    "\t\t\tself.__x=0\n",
    "\t\telif x>100:\n",
    "\t\t\tself.__x=100\n",
    "\t\telse:\n",
    "\t\t\tself.__x=x\n",
    "\t@property\n",
    "\tdef y(self):\n",
    "\t\treturn self.__y\n",
    "\t@y.setter\n",
    "\tdef y(self,y):\n",
    "\t\tif y<0:\n",
    "\t\t\tself.__y=0\n",
    "\t\telif y>100:\n",
    "\t\t\tself.__y=100\n",
    "\t\telse:\n",
    "\t\t\tself.__y=y\n",
    "\n"
   ]
  },
  {
   "cell_type": "code",
   "execution_count": null,
   "metadata": {},
   "outputs": [],
   "source": [
    "p1=point(-120,10)"
   ]
  },
  {
   "cell_type": "code",
   "execution_count": null,
   "metadata": {},
   "outputs": [],
   "source": [
    "p1.x\n"
   ]
  },
  {
   "cell_type": "code",
   "execution_count": null,
   "metadata": {},
   "outputs": [],
   "source": [
    "p1.y"
   ]
  },
  {
   "cell_type": "code",
   "execution_count": null,
   "metadata": {},
   "outputs": [],
   "source": []
  },
  {
   "cell_type": "raw",
   "metadata": {},
   "source": [
    "فصل 12\n",
    "صفحه 194"
   ]
  },
  {
   "cell_type": "code",
   "execution_count": 5,
   "metadata": {},
   "outputs": [],
   "source": [
    "import math\n",
    "class circle:\n",
    "\tdef __init__(self, r):\n",
    "\t\tself.r=r\n",
    "\t@property\n",
    "\tdef area(self):\n",
    "\t\treturn math.pi *self.r**2\n",
    "\t@property\n",
    "\tdef perimeter(self):\n",
    "\t\treturn 2*math.pi*self.r\n",
    "\t@property\n",
    "\tdef r(self):\n",
    "\t\treturn self.__r\n",
    "\t@r.setter\n",
    "\tdef r(self, value):\n",
    "\t\tif not (isinstance(value, float) or   isinstance(value, int)) :\n",
    "\t\t\traise TypeError (\"Expected a number\")\n",
    "\t\telse:\n",
    "\t\t\tself.__r=value\n",
    "\tdef __str__(self):\n",
    "\t     return 'r={0.r!s} p= {0.perimeter!s}, area={0.area!s}'.format(self)\n",
    "\n",
    "\n"
   ]
  },
  {
   "cell_type": "code",
   "execution_count": 6,
   "metadata": {},
   "outputs": [],
   "source": [
    "c=circle(23.2)"
   ]
  },
  {
   "cell_type": "code",
   "execution_count": 7,
   "metadata": {},
   "outputs": [
    {
     "data": {
      "text/plain": [
       "23.2"
      ]
     },
     "execution_count": 7,
     "metadata": {},
     "output_type": "execute_result"
    }
   ],
   "source": [
    "c.r"
   ]
  },
  {
   "cell_type": "code",
   "execution_count": 8,
   "metadata": {},
   "outputs": [
    {
     "data": {
      "text/plain": [
       "1690.9308298681703"
      ]
     },
     "execution_count": 8,
     "metadata": {},
     "output_type": "execute_result"
    }
   ],
   "source": [
    "c.area\n"
   ]
  },
  {
   "cell_type": "code",
   "execution_count": 9,
   "metadata": {},
   "outputs": [
    {
     "data": {
      "text/plain": [
       "145.7698991265664"
      ]
     },
     "execution_count": 9,
     "metadata": {},
     "output_type": "execute_result"
    }
   ],
   "source": [
    "c.perimeter"
   ]
  },
  {
   "cell_type": "code",
   "execution_count": 10,
   "metadata": {},
   "outputs": [
    {
     "name": "stdout",
     "output_type": "stream",
     "text": [
      "r=23.2 p= 145.7698991265664, area=1690.9308298681703\n"
     ]
    }
   ],
   "source": [
    "print(c)"
   ]
  },
  {
   "cell_type": "code",
   "execution_count": 11,
   "metadata": {},
   "outputs": [
    {
     "ename": "TypeError",
     "evalue": "Expected a number",
     "output_type": "error",
     "traceback": [
      "\u001b[1;31m---------------------------------------------------------------------------\u001b[0m",
      "\u001b[1;31mTypeError\u001b[0m                                 Traceback (most recent call last)",
      "\u001b[1;32m<ipython-input-11-030b5b768569>\u001b[0m in \u001b[0;36m<module>\u001b[1;34m\u001b[0m\n\u001b[1;32m----> 1\u001b[1;33m \u001b[0mc\u001b[0m\u001b[1;33m=\u001b[0m\u001b[0mcircle\u001b[0m\u001b[1;33m(\u001b[0m\u001b[1;34m\"a\"\u001b[0m\u001b[1;33m)\u001b[0m\u001b[1;33m\u001b[0m\u001b[1;33m\u001b[0m\u001b[0m\n\u001b[0m",
      "\u001b[1;32m<ipython-input-5-cc61de86c747>\u001b[0m in \u001b[0;36m__init__\u001b[1;34m(self, r)\u001b[0m\n\u001b[0;32m      2\u001b[0m \u001b[1;32mclass\u001b[0m \u001b[0mcircle\u001b[0m\u001b[1;33m:\u001b[0m\u001b[1;33m\u001b[0m\u001b[1;33m\u001b[0m\u001b[0m\n\u001b[0;32m      3\u001b[0m         \u001b[1;32mdef\u001b[0m \u001b[0m__init__\u001b[0m\u001b[1;33m(\u001b[0m\u001b[0mself\u001b[0m\u001b[1;33m,\u001b[0m \u001b[0mr\u001b[0m\u001b[1;33m)\u001b[0m\u001b[1;33m:\u001b[0m\u001b[1;33m\u001b[0m\u001b[1;33m\u001b[0m\u001b[0m\n\u001b[1;32m----> 4\u001b[1;33m                 \u001b[0mself\u001b[0m\u001b[1;33m.\u001b[0m\u001b[0mr\u001b[0m\u001b[1;33m=\u001b[0m\u001b[0mr\u001b[0m\u001b[1;33m\u001b[0m\u001b[1;33m\u001b[0m\u001b[0m\n\u001b[0m\u001b[0;32m      5\u001b[0m         \u001b[1;33m@\u001b[0m\u001b[0mproperty\u001b[0m\u001b[1;33m\u001b[0m\u001b[1;33m\u001b[0m\u001b[0m\n\u001b[0;32m      6\u001b[0m         \u001b[1;32mdef\u001b[0m \u001b[0marea\u001b[0m\u001b[1;33m(\u001b[0m\u001b[0mself\u001b[0m\u001b[1;33m)\u001b[0m\u001b[1;33m:\u001b[0m\u001b[1;33m\u001b[0m\u001b[1;33m\u001b[0m\u001b[0m\n",
      "\u001b[1;32m<ipython-input-5-cc61de86c747>\u001b[0m in \u001b[0;36mr\u001b[1;34m(self, value)\u001b[0m\n\u001b[0;32m     15\u001b[0m         \u001b[1;32mdef\u001b[0m \u001b[0mr\u001b[0m\u001b[1;33m(\u001b[0m\u001b[0mself\u001b[0m\u001b[1;33m,\u001b[0m \u001b[0mvalue\u001b[0m\u001b[1;33m)\u001b[0m\u001b[1;33m:\u001b[0m\u001b[1;33m\u001b[0m\u001b[1;33m\u001b[0m\u001b[0m\n\u001b[0;32m     16\u001b[0m                 \u001b[1;32mif\u001b[0m \u001b[1;32mnot\u001b[0m \u001b[1;33m(\u001b[0m\u001b[0misinstance\u001b[0m\u001b[1;33m(\u001b[0m\u001b[0mvalue\u001b[0m\u001b[1;33m,\u001b[0m \u001b[0mfloat\u001b[0m\u001b[1;33m)\u001b[0m \u001b[1;32mor\u001b[0m   \u001b[0misinstance\u001b[0m\u001b[1;33m(\u001b[0m\u001b[0mvalue\u001b[0m\u001b[1;33m,\u001b[0m \u001b[0mint\u001b[0m\u001b[1;33m)\u001b[0m\u001b[1;33m)\u001b[0m \u001b[1;33m:\u001b[0m\u001b[1;33m\u001b[0m\u001b[1;33m\u001b[0m\u001b[0m\n\u001b[1;32m---> 17\u001b[1;33m                         \u001b[1;32mraise\u001b[0m \u001b[0mTypeError\u001b[0m \u001b[1;33m(\u001b[0m\u001b[1;34m\"Expected a number\"\u001b[0m\u001b[1;33m)\u001b[0m\u001b[1;33m\u001b[0m\u001b[1;33m\u001b[0m\u001b[0m\n\u001b[0m\u001b[0;32m     18\u001b[0m                 \u001b[1;32melse\u001b[0m\u001b[1;33m:\u001b[0m\u001b[1;33m\u001b[0m\u001b[1;33m\u001b[0m\u001b[0m\n\u001b[0;32m     19\u001b[0m                         \u001b[0mself\u001b[0m\u001b[1;33m.\u001b[0m\u001b[0m__r\u001b[0m\u001b[1;33m=\u001b[0m\u001b[0mvalue\u001b[0m\u001b[1;33m\u001b[0m\u001b[1;33m\u001b[0m\u001b[0m\n",
      "\u001b[1;31mTypeError\u001b[0m: Expected a number"
     ]
    }
   ],
   "source": [
    "c=circle(\"a\")"
   ]
  },
  {
   "cell_type": "code",
   "execution_count": null,
   "metadata": {},
   "outputs": [],
   "source": []
  },
  {
   "cell_type": "raw",
   "metadata": {},
   "source": [
    "فصل 12\n",
    "صفحه 195"
   ]
  },
  {
   "cell_type": "code",
   "execution_count": null,
   "metadata": {},
   "outputs": [],
   "source": [
    "class Queue:\n",
    "\tdef __init__(self, contents):\n",
    "\t\tself._hidenlist=list(contents)\n",
    "\tdef push(self, value):\n",
    "\t\tself._hidenlist.insert(0,value)\n",
    "\tdef pop(self):\n",
    "\t\tself._hidenlist.pop(-1)\n",
    "\tdef __repr__(self):\n",
    "\t\treturn \"Queue({0._hidenlist})\".format(self)\n"
   ]
  },
  {
   "cell_type": "code",
   "execution_count": null,
   "metadata": {},
   "outputs": [],
   "source": [
    "queue=Queue([1,2,3])\n",
    "queue\n"
   ]
  },
  {
   "cell_type": "code",
   "execution_count": null,
   "metadata": {},
   "outputs": [],
   "source": [
    "queue.push(0)\n",
    "queue\n"
   ]
  },
  {
   "cell_type": "code",
   "execution_count": null,
   "metadata": {},
   "outputs": [],
   "source": [
    "queue.pop()\n",
    "queue\n"
   ]
  },
  {
   "cell_type": "code",
   "execution_count": null,
   "metadata": {},
   "outputs": [],
   "source": [
    "print (queue._hidenlist)"
   ]
  },
  {
   "cell_type": "code",
   "execution_count": null,
   "metadata": {},
   "outputs": [],
   "source": []
  },
  {
   "cell_type": "raw",
   "metadata": {},
   "source": [
    "فصل 12\n",
    "صفحه 197"
   ]
  },
  {
   "cell_type": "code",
   "execution_count": null,
   "metadata": {},
   "outputs": [],
   "source": [
    "class point:\n",
    "\tdef __init__(self,x,y):\n",
    "\t\tself.x=x\n",
    "\t\tself.y=y\n",
    "\t@property\n",
    "\tdef hypot(self):\n",
    "\t\treturn (self.x ** 2 + self.y ** 2) ** 0.5\n",
    "\tdef __str__(self):\n",
    "\t\tform='x={0.x!s}y={0.y!s}length={0.hypot:6.3f}'\n",
    "\t\treturn form.format(self)\n",
    "\tdef __repr__(self):\n",
    "\t\tform=' point: x={0.x!r}  y={0.y!r} length={0.hypot:6.3f}'\n",
    "\t\treturn form.format(self)\n",
    "\n",
    "\tdef __add__(self,other):\n",
    "\t\treturn point(self.x+other.x,self.y+other.y)\n",
    "\tdef __sub__(self,other):\n",
    "\t\treturn point(self.x-other.x,self.y-other.y)\n",
    "\tdef __call__(self, point):\n",
    "\t\treturn self.x+point.x, self.y+point.y\n"
   ]
  },
  {
   "cell_type": "code",
   "execution_count": null,
   "metadata": {},
   "outputs": [],
   "source": [
    "p1=point(12,23)\n",
    "print(p1)\n"
   ]
  },
  {
   "cell_type": "code",
   "execution_count": null,
   "metadata": {},
   "outputs": [],
   "source": [
    "p1"
   ]
  },
  {
   "cell_type": "code",
   "execution_count": null,
   "metadata": {},
   "outputs": [],
   "source": [
    "p2=point(33,45)"
   ]
  },
  {
   "cell_type": "code",
   "execution_count": null,
   "metadata": {},
   "outputs": [],
   "source": [
    "p12=p1+p2"
   ]
  },
  {
   "cell_type": "code",
   "execution_count": null,
   "metadata": {},
   "outputs": [],
   "source": [
    "p12"
   ]
  },
  {
   "cell_type": "code",
   "execution_count": null,
   "metadata": {},
   "outputs": [],
   "source": [
    "p2_1=p2-p1"
   ]
  },
  {
   "cell_type": "code",
   "execution_count": null,
   "metadata": {},
   "outputs": [],
   "source": [
    "p2_1"
   ]
  },
  {
   "cell_type": "code",
   "execution_count": null,
   "metadata": {},
   "outputs": [],
   "source": [
    "p1(p2)"
   ]
  },
  {
   "cell_type": "raw",
   "metadata": {},
   "source": [
    "فصل 12\n",
    "صفحه 199"
   ]
  },
  {
   "cell_type": "code",
   "execution_count": 12,
   "metadata": {},
   "outputs": [],
   "source": [
    "class SpecialString:\n",
    "\tdef __init__(self,cont):\n",
    "\t\tself.cont=cont\n",
    "\tdef __div__(self,other):\n",
    "\t\tline =\"-\"*len(other.cont)\n",
    "\t\treturn \"\\n\".join([self.cont,line,other.cont])\n",
    "\tdef __truediv__(self,other):\n",
    "\t\tline =\"=\"*len(other.cont)\n",
    "\t\treturn \"\\n\".join([self.cont,line,other.cont])\n",
    "\t\n"
   ]
  },
  {
   "cell_type": "code",
   "execution_count": 13,
   "metadata": {},
   "outputs": [
    {
     "name": "stdout",
     "output_type": "stream",
     "text": [
      "spam\n",
      "============\n",
      "Hello World!\n"
     ]
    }
   ],
   "source": [
    "spam=SpecialString(\"spam\")\n",
    "hello=SpecialString(\"Hello World!\")\n",
    "print(spam/hello)"
   ]
  },
  {
   "cell_type": "code",
   "execution_count": 14,
   "metadata": {},
   "outputs": [
    {
     "name": "stdout",
     "output_type": "stream",
     "text": [
      "spam\n",
      "============\n",
      "Hello World!\n"
     ]
    }
   ],
   "source": [
    "print(spam/hello)"
   ]
  },
  {
   "cell_type": "code",
   "execution_count": 20,
   "metadata": {},
   "outputs": [
    {
     "name": "stdout",
     "output_type": "stream",
     "text": [
      "spam\n",
      "============\n",
      "Hello World!\n"
     ]
    }
   ],
   "source": [
    "print(spam/hello)"
   ]
  },
  {
   "cell_type": "raw",
   "metadata": {},
   "source": [
    "فصل 12\n",
    "صفحه 200"
   ]
  },
  {
   "cell_type": "code",
   "execution_count": 21,
   "metadata": {},
   "outputs": [],
   "source": [
    "from __future__ import division "
   ]
  },
  {
   "cell_type": "code",
   "execution_count": 22,
   "metadata": {},
   "outputs": [
    {
     "name": "stdout",
     "output_type": "stream",
     "text": [
      "spam\n",
      "============\n",
      "Hello World!\n"
     ]
    }
   ],
   "source": [
    "print(spam/hello)"
   ]
  },
  {
   "cell_type": "code",
   "execution_count": 23,
   "metadata": {},
   "outputs": [],
   "source": [
    "class SpecialString:\n",
    "\tdef __init__(self,cont):\n",
    "\t\tself.cont=cont\n",
    "\tdef __gt__(self,other):\n",
    "\t\tfor index in range(len(other.cont)+1):\n",
    "\t\t\tresult=other.cont[:index]+\">\"+self.cont\n",
    "\t\t\tresult+=\">\"+self.cont[index:]\n",
    "\t\t\tprint(result)\n"
   ]
  },
  {
   "cell_type": "code",
   "execution_count": 24,
   "metadata": {},
   "outputs": [
    {
     "name": "stdout",
     "output_type": "stream",
     "text": [
      ">spam>spam\n",
      "e>spam>pam\n",
      "eg>spam>am\n",
      "egg>spam>m\n",
      "eggs>spam>\n"
     ]
    }
   ],
   "source": [
    "spam=SpecialString(\"spam\")\n",
    "egg=SpecialString(\"eggs\")\n",
    "spam>egg\n"
   ]
  },
  {
   "cell_type": "raw",
   "metadata": {},
   "source": [
    "فصل 12\n",
    "صفحه 201"
   ]
  },
  {
   "cell_type": "code",
   "execution_count": 25,
   "metadata": {},
   "outputs": [
    {
     "name": "stdout",
     "output_type": "stream",
     "text": [
      "a\n",
      "b\n",
      "c\n"
     ]
    }
   ],
   "source": [
    "class Lister(object):\n",
    "    def __init__(self, *args):\n",
    "        self.items = tuple(args)\n",
    "    def __iter__(self):\n",
    "        return (i for i in self.items)\n",
    "        \n",
    "s = Lister('a', 'b', 'c')\n",
    "for letter in s:\n",
    "    print ( letter,)    \n"
   ]
  },
  {
   "cell_type": "code",
   "execution_count": 30,
   "metadata": {},
   "outputs": [
    {
     "name": "stdout",
     "output_type": "stream",
     "text": [
      "a\n",
      "b\n",
      "c\n"
     ]
    }
   ],
   "source": [
    "class Lister(object):\n",
    "    def __init__(self, *args):\n",
    "        self.items = tuple(args)\n",
    "    def __iter__(self):\n",
    "        for i in self.items:\n",
    "            yield i\n",
    "              \n",
    "s= Lister('a', 'b', 'c')\n",
    "for letter in s:\n",
    "     print (letter)\n"
   ]
  },
  {
   "cell_type": "raw",
   "metadata": {},
   "source": [
    "فصل 12\n",
    "صفحه 202"
   ]
  },
  {
   "cell_type": "code",
   "execution_count": 31,
   "metadata": {},
   "outputs": [],
   "source": [
    "import random\n",
    "class VagueList:\n",
    "\tdef __init__(self,cont):\n",
    "\t\tself.cont=cont\n",
    "\tdef  __getitem__(self,index):\n",
    "\t\treturn self.cont[index+random.randint(-1,1)]\n",
    "\tdef __len__(self):\n",
    "\t\treturn random.randint(0, len(self.cont)*2)\n"
   ]
  },
  {
   "cell_type": "code",
   "execution_count": 32,
   "metadata": {},
   "outputs": [
    {
     "data": {
      "text/plain": [
       "6"
      ]
     },
     "execution_count": 32,
     "metadata": {},
     "output_type": "execute_result"
    }
   ],
   "source": [
    "vague_list=VagueList([\"A\",\"B\",\"C\",\"D\",\"E\",\"F\"])\n",
    "random.seed(1234567)\n",
    "len(vague_list)\n"
   ]
  },
  {
   "cell_type": "code",
   "execution_count": 33,
   "metadata": {},
   "outputs": [
    {
     "data": {
      "text/plain": [
       "3"
      ]
     },
     "execution_count": 33,
     "metadata": {},
     "output_type": "execute_result"
    }
   ],
   "source": [
    "len(vague_list)\n"
   ]
  },
  {
   "cell_type": "code",
   "execution_count": 34,
   "metadata": {},
   "outputs": [
    {
     "data": {
      "text/plain": [
       "'A'"
      ]
     },
     "execution_count": 34,
     "metadata": {},
     "output_type": "execute_result"
    }
   ],
   "source": [
    "vague_list[1]\n"
   ]
  },
  {
   "cell_type": "code",
   "execution_count": 35,
   "metadata": {},
   "outputs": [
    {
     "data": {
      "text/plain": [
       "'D'"
      ]
     },
     "execution_count": 35,
     "metadata": {},
     "output_type": "execute_result"
    }
   ],
   "source": [
    "vague_list[2]"
   ]
  },
  {
   "cell_type": "code",
   "execution_count": null,
   "metadata": {},
   "outputs": [],
   "source": []
  },
  {
   "cell_type": "raw",
   "metadata": {},
   "source": [
    "فصل 12\n",
    "صفحه 203"
   ]
  },
  {
   "cell_type": "code",
   "execution_count": 36,
   "metadata": {},
   "outputs": [],
   "source": [
    "class Rectangle:\n",
    "\tdef __init__(self, width,height):\n",
    "\t\tself.width=width\n",
    "\t\tself.height=height\n",
    "\tdef area(self):\n",
    "\t\treturn self.width*self.height\n",
    "\t@classmethod\n",
    "\tdef square(cls,side):\n",
    "\t\treturn cls(side,side)\n"
   ]
  },
  {
   "cell_type": "code",
   "execution_count": 37,
   "metadata": {},
   "outputs": [
    {
     "data": {
      "text/plain": [
       "9"
      ]
     },
     "execution_count": 37,
     "metadata": {},
     "output_type": "execute_result"
    }
   ],
   "source": [
    "sq=Rectangle.square(3)\n",
    "sq.area()\n",
    "\n"
   ]
  },
  {
   "cell_type": "code",
   "execution_count": 38,
   "metadata": {},
   "outputs": [
    {
     "data": {
      "text/plain": [
       "3"
      ]
     },
     "execution_count": 38,
     "metadata": {},
     "output_type": "execute_result"
    }
   ],
   "source": [
    "sq.width\n"
   ]
  },
  {
   "cell_type": "code",
   "execution_count": 39,
   "metadata": {},
   "outputs": [
    {
     "data": {
      "text/plain": [
       "3"
      ]
     },
     "execution_count": 39,
     "metadata": {},
     "output_type": "execute_result"
    }
   ],
   "source": [
    "sq.height"
   ]
  },
  {
   "cell_type": "code",
   "execution_count": 40,
   "metadata": {},
   "outputs": [],
   "source": [
    "class Rectangle:\n",
    "\tdef __init__(self, width,height):\n",
    "\t\tself.width=width\n",
    "\t\tself.height=height\n",
    "\t@property\n",
    "\tdef area(self):\n",
    "\t\treturn self.width*self.height\n",
    "\t@staticmethod\n",
    "\tdef square(side):\n",
    "\t\treturn side*side\n",
    "\tdef __str__(self):\n",
    "\t\treturn \"{0. area}\".format(self)\n"
   ]
  },
  {
   "cell_type": "raw",
   "metadata": {},
   "source": [
    "فصل 12\n",
    "صفحه 204"
   ]
  },
  {
   "cell_type": "code",
   "execution_count": 41,
   "metadata": {},
   "outputs": [
    {
     "name": "stdout",
     "output_type": "stream",
     "text": [
      "529\n"
     ]
    }
   ],
   "source": [
    "sq=Rectangle.square(23)\n",
    "print(sq)\n"
   ]
  },
  {
   "cell_type": "code",
   "execution_count": 42,
   "metadata": {},
   "outputs": [
    {
     "name": "stdout",
     "output_type": "stream",
     "text": [
      "144\n"
     ]
    }
   ],
   "source": [
    "print (Rectangle. square(12))\n"
   ]
  },
  {
   "cell_type": "code",
   "execution_count": 43,
   "metadata": {},
   "outputs": [
    {
     "name": "stdout",
     "output_type": "stream",
     "text": [
      "529\n",
      "4\n",
      "625\n"
     ]
    }
   ],
   "source": [
    "for i in [23,2,25]:\n",
    "    print(Rectangle. square(i))"
   ]
  },
  {
   "cell_type": "raw",
   "metadata": {},
   "source": [
    "فصل 12\n",
    "صفحه 205"
   ]
  },
  {
   "cell_type": "code",
   "execution_count": 47,
   "metadata": {},
   "outputs": [],
   "source": [
    "class Shape (object):\n",
    "\t\"\"\"Shape class: has method move\"\"\"\n",
    "\tdef  __init__ (self, x, y):\n",
    "\t\tself.x = x\n",
    "\t\tself.y = y\n",
    "\tdef move(self, deltaX, deltaY):\n",
    "\t\tself.x += deltaX\n",
    "\t\tself.y  += deltaY\n"
   ]
  },
  {
   "cell_type": "code",
   "execution_count": 52,
   "metadata": {},
   "outputs": [],
   "source": [
    "class Square(Shape):\n",
    "    \"\"\"Square Class:inherits from Shape\"\"\"\n",
    "    def __init__(self, side=1, x=0, y=0):\n",
    "        Shape.__init__(self, x, y)\n",
    "        self._side = side\n",
    "    @property\n",
    "    def area(self):\n",
    "        \"\"\"Square area method: returns the area of the square.\"\"\"\n",
    "        return self._side * self._side\n",
    "    def  __str__(self):\n",
    "        form=\"Area is {0.area} at coordinate ({0.x}, {0.y})\"\n",
    "        return form.format(self)\n"
   ]
  },
  {
   "cell_type": "code",
   "execution_count": 53,
   "metadata": {},
   "outputs": [
    {
     "name": "stdout",
     "output_type": "stream",
     "text": [
      "Area is 144 at coordinate (0, 0)\n"
     ]
    }
   ],
   "source": [
    "sq=Square(side=12)\n",
    "print(sq)\n"
   ]
  },
  {
   "cell_type": "code",
   "execution_count": 54,
   "metadata": {},
   "outputs": [],
   "source": [
    "sq.move(23,12)"
   ]
  },
  {
   "cell_type": "raw",
   "metadata": {},
   "source": [
    "فصل 12\n",
    "صفحه 206"
   ]
  },
  {
   "cell_type": "code",
   "execution_count": 55,
   "metadata": {},
   "outputs": [
    {
     "name": "stdout",
     "output_type": "stream",
     "text": [
      "Area is 144 at coordinate (23, 12)\n"
     ]
    }
   ],
   "source": [
    "print(sq)"
   ]
  },
  {
   "cell_type": "code",
   "execution_count": 56,
   "metadata": {},
   "outputs": [],
   "source": [
    "class Circle(Square):\n",
    "\t\"\"\"Circle Class: inherits from Shape and has method area\"\"\"\n",
    "\t_pi = 3.14159\n",
    "\tdef __init__(self, r=1, x=0, y=0):\n",
    "\t\tSquare.__init__(self, x, y)\n",
    "\t\tself.radius = r\n",
    "\t@property\n",
    "\tdef area(self):\n",
    "\t\t\"\"\"Circle area method: returns the area of the circle.\"\"\"\n",
    "\t\treturn self.radius * self.radius * self._pi\n"
   ]
  },
  {
   "cell_type": "code",
   "execution_count": 57,
   "metadata": {},
   "outputs": [
    {
     "name": "stdout",
     "output_type": "stream",
     "text": [
      "Area is 1661.90111 at coordinate (0, 0)\n"
     ]
    }
   ],
   "source": [
    "cr=Circle(23)   \n",
    "print(cr)\n"
   ]
  },
  {
   "cell_type": "code",
   "execution_count": 58,
   "metadata": {},
   "outputs": [
    {
     "name": "stdout",
     "output_type": "stream",
     "text": [
      "Area is 1661.90111 at coordinate (23, -2)\n"
     ]
    }
   ],
   "source": [
    "cr.move(23,-2)\n",
    "print(cr)"
   ]
  },
  {
   "cell_type": "code",
   "execution_count": 59,
   "metadata": {},
   "outputs": [],
   "source": [
    ">>> class Vehicle(object):\n",
    "\tdef __init__ (self, model, speed_max):\n",
    "\t\t    self.model=model\n",
    "\t\t    self.speed_max=speed_max\n",
    "\t\t    self.speed=0\n",
    "\tdef accelerate(self, speed_difference):\n",
    "\t\tself.speed+=abs(speed_difference)\n",
    "\t\tself.speed=min (self.speed,self.speed_max)\n",
    "\tdef slow_down (self, speed_difference):\n",
    "\t\tself.speed-=abs(speed_difference)\n",
    "\t\tself.speed=max (self.speed,-5)\n"
   ]
  },
  {
   "cell_type": "code",
   "execution_count": null,
   "metadata": {},
   "outputs": [],
   "source": []
  },
  {
   "cell_type": "raw",
   "metadata": {},
   "source": [
    "فصل 12\n",
    "صفحه 207"
   ]
  },
  {
   "cell_type": "code",
   "execution_count": 60,
   "metadata": {},
   "outputs": [],
   "source": [
    "class Bus(Vehicle):\n",
    "\tdef slow_down(self, speed_difference):\n",
    "\t\tsuper(Bus,self).slow_down(speed_difference)\n",
    "\t\tself.speed = max(self.speed , 0)\n"
   ]
  },
  {
   "cell_type": "code",
   "execution_count": 61,
   "metadata": {},
   "outputs": [],
   "source": [
    "class Bike(Vehicle):\n",
    "    def __init__(self, name, max_speed):\n",
    "        max_speed = min(max_speed, 30)\n",
    "        Vehicle.__init__(self,name, max_speed)\n",
    "    def show_status(self):\n",
    "        print (\"The bike is \" + self.model + \", its speed is \"+ str(self.speed) + \"km/h\")\n"
   ]
  },
  {
   "cell_type": "code",
   "execution_count": 62,
   "metadata": {},
   "outputs": [],
   "source": [
    "class Bike(Vehicle):\n",
    "\tdef __init__(self,model, speed_max):\n",
    "\t\tsuper(Bike, self).__init__( model, speed_max)\n",
    "\t\tself.speed = min(speed_max, 30)\n",
    "\tdef show_status(self):\n",
    "\t\tprint (\"The bike is \" + self.model + \", its speed is \"+ str(self.speed) + \"km/h\")\n"
   ]
  },
  {
   "cell_type": "code",
   "execution_count": null,
   "metadata": {},
   "outputs": [],
   "source": []
  },
  {
   "cell_type": "raw",
   "metadata": {},
   "source": [
    "فصل 12\n",
    "صفحه 208"
   ]
  },
  {
   "cell_type": "code",
   "execution_count": 63,
   "metadata": {},
   "outputs": [
    {
     "name": "stdout",
     "output_type": "stream",
     "text": [
      "Indian\n"
     ]
    }
   ],
   "source": [
    "bike=Bike(\"Indian\",25)\n",
    "print (bike.model)\n",
    "\n"
   ]
  },
  {
   "cell_type": "code",
   "execution_count": 64,
   "metadata": {},
   "outputs": [
    {
     "name": "stdout",
     "output_type": "stream",
     "text": [
      "The bike is Indian, its speed is 25km/h\n"
     ]
    }
   ],
   "source": [
    "bike.accelerate(30)\n",
    "bike. show_status()"
   ]
  },
  {
   "cell_type": "raw",
   "metadata": {},
   "source": [
    "فصل 12\n",
    "صفحه 208\n",
    "تمرین عملی"
   ]
  },
  {
   "cell_type": "code",
   "execution_count": 65,
   "metadata": {},
   "outputs": [],
   "source": [
    "class Vec2D(object):\n",
    "    def __init__(self, x, y):\n",
    "        self.x = x\n",
    "        self.y = y\n",
    "    def __add__(self, other):\n",
    "        return Vec2D(self.x + other.x, self.y + other.y)\n",
    "    def __sub__(self, other):\n",
    "        return Vec2D(self.x - other.x, self.y - other.y)\n",
    "    def __mul__(self, other):\n",
    "        return self.x*other.x + self.y*other.y\n",
    "    def __abs__(self):\n",
    "        return math.sqrt(self.x**2 + self.y**2)\n",
    "    def __eq__(self, other):\n",
    "        return self.x == other.x and self.y == other.y\n",
    "    def __str__(self):\n",
    "        return '(%g, %g)' % (self.x, self.y)\n",
    "    def __ne__(self, other):\n",
    "        return not self.__eq__(other)  # reuse __eq__\n"
   ]
  },
  {
   "cell_type": "code",
   "execution_count": 68,
   "metadata": {},
   "outputs": [],
   "source": [
    "v1=Vec2D(3,5)\n",
    "v2=Vec2D(4,6)\n",
    "v3=v1+v2"
   ]
  },
  {
   "cell_type": "code",
   "execution_count": 69,
   "metadata": {},
   "outputs": [
    {
     "data": {
      "text/plain": [
       "(7, 11)"
      ]
     },
     "execution_count": 69,
     "metadata": {},
     "output_type": "execute_result"
    }
   ],
   "source": [
    "v3.x,v3.y"
   ]
  },
  {
   "cell_type": "code",
   "execution_count": null,
   "metadata": {},
   "outputs": [],
   "source": []
  }
 ],
 "metadata": {
  "kernelspec": {
   "display_name": "tf",
   "language": "python",
   "name": "tf"
  },
  "language_info": {
   "codemirror_mode": {
    "name": "ipython",
    "version": 3
   },
   "file_extension": ".py",
   "mimetype": "text/x-python",
   "name": "python",
   "nbconvert_exporter": "python",
   "pygments_lexer": "ipython3",
   "version": "3.7.8"
  }
 },
 "nbformat": 4,
 "nbformat_minor": 4
}
