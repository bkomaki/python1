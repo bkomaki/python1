{
 "cells": [
  {
   "cell_type": "raw",
   "metadata": {},
   "source": [
    "فصل 14"
   ]
  },
  {
   "cell_type": "raw",
   "metadata": {},
   "source": [
    "صفحه 218"
   ]
  },
  {
   "cell_type": "code",
   "execution_count": 1,
   "metadata": {},
   "outputs": [],
   "source": [
    " import time"
   ]
  },
  {
   "cell_type": "code",
   "execution_count": 2,
   "metadata": {},
   "outputs": [
    {
     "data": {
      "text/plain": [
       "1605177617.8485289"
      ]
     },
     "execution_count": 2,
     "metadata": {},
     "output_type": "execute_result"
    }
   ],
   "source": [
    "time.time()"
   ]
  },
  {
   "cell_type": "code",
   "execution_count": 3,
   "metadata": {},
   "outputs": [
    {
     "data": {
      "text/plain": [
       "'Thu Nov 12 14:10:35 2020'"
      ]
     },
     "execution_count": 3,
     "metadata": {},
     "output_type": "execute_result"
    }
   ],
   "source": [
    "time.ctime()"
   ]
  },
  {
   "cell_type": "code",
   "execution_count": 4,
   "metadata": {},
   "outputs": [
    {
     "data": {
      "text/plain": [
       "'Thu Jan  1 03:30:00 1970'"
      ]
     },
     "execution_count": 4,
     "metadata": {},
     "output_type": "execute_result"
    }
   ],
   "source": [
    "time.ctime(0)"
   ]
  },
  {
   "cell_type": "raw",
   "metadata": {},
   "source": [
    "صفحه 219"
   ]
  },
  {
   "cell_type": "code",
   "execution_count": 5,
   "metadata": {},
   "outputs": [
    {
     "data": {
      "text/plain": [
       "time.struct_time(tm_year=2020, tm_mon=11, tm_mday=12, tm_hour=14, tm_min=11, tm_sec=34, tm_wday=3, tm_yday=317, tm_isdst=0)"
      ]
     },
     "execution_count": 5,
     "metadata": {},
     "output_type": "execute_result"
    }
   ],
   "source": [
    "time. localtime ()"
   ]
  },
  {
   "cell_type": "code",
   "execution_count": 6,
   "metadata": {},
   "outputs": [
    {
     "data": {
      "text/plain": [
       "time.struct_time(tm_year=2020, tm_mon=11, tm_mday=12, tm_hour=10, tm_min=42, tm_sec=11, tm_wday=3, tm_yday=317, tm_isdst=0)"
      ]
     },
     "execution_count": 6,
     "metadata": {},
     "output_type": "execute_result"
    }
   ],
   "source": [
    "time.gmtime()"
   ]
  },
  {
   "cell_type": "code",
   "execution_count": 7,
   "metadata": {},
   "outputs": [],
   "source": [
    "t = (2009, 2, 17, 17, 3, 38, 1, 48, 0)"
   ]
  },
  {
   "cell_type": "code",
   "execution_count": 8,
   "metadata": {},
   "outputs": [
    {
     "data": {
      "text/plain": [
       "1234877618.0"
      ]
     },
     "execution_count": 8,
     "metadata": {},
     "output_type": "execute_result"
    }
   ],
   "source": [
    "time.mktime(t)"
   ]
  },
  {
   "cell_type": "code",
   "execution_count": 9,
   "metadata": {},
   "outputs": [
    {
     "data": {
      "text/plain": [
       "time.struct_time(tm_year=2009, tm_mon=2, tm_mday=17, tm_hour=17, tm_min=3, tm_sec=38, tm_wday=1, tm_yday=48, tm_isdst=0)"
      ]
     },
     "execution_count": 9,
     "metadata": {},
     "output_type": "execute_result"
    }
   ],
   "source": [
    "time.localtime(1234877618.0)"
   ]
  },
  {
   "cell_type": "code",
   "execution_count": 10,
   "metadata": {},
   "outputs": [
    {
     "data": {
      "text/plain": [
       "'2020-11-12, 14:13:22'"
      ]
     },
     "execution_count": 10,
     "metadata": {},
     "output_type": "execute_result"
    }
   ],
   "source": [
    "time.strftime(\"%Y-%m-%d, %H:%M:%S\")"
   ]
  },
  {
   "cell_type": "code",
   "execution_count": 11,
   "metadata": {},
   "outputs": [
    {
     "data": {
      "text/plain": [
       "'2033-05-18, 03:33:20'"
      ]
     },
     "execution_count": 11,
     "metadata": {},
     "output_type": "execute_result"
    }
   ],
   "source": [
    "time.strftime(\"%Y-%m-%d, %H:%M:%S\", time.gmtime(2e9))"
   ]
  },
  {
   "cell_type": "raw",
   "metadata": {},
   "source": [
    "صفحه 220"
   ]
  },
  {
   "cell_type": "code",
   "execution_count": 12,
   "metadata": {},
   "outputs": [
    {
     "data": {
      "text/plain": [
       "time.struct_time(tm_year=2019, tm_mon=10, tm_mday=11, tm_hour=0, tm_min=0, tm_sec=0, tm_wday=4, tm_yday=284, tm_isdst=-1)"
      ]
     },
     "execution_count": 12,
     "metadata": {},
     "output_type": "execute_result"
    }
   ],
   "source": [
    "time.strptime('2019-10-11',\"%Y-%m-%d\")"
   ]
  },
  {
   "cell_type": "code",
   "execution_count": 13,
   "metadata": {},
   "outputs": [
    {
     "data": {
      "text/plain": [
       "'Thu Nov 12 14:14:29 2020'"
      ]
     },
     "execution_count": 13,
     "metadata": {},
     "output_type": "execute_result"
    }
   ],
   "source": [
    "time.asctime(time.localtime())"
   ]
  },
  {
   "cell_type": "code",
   "execution_count": 14,
   "metadata": {},
   "outputs": [
    {
     "data": {
      "text/plain": [
       "1"
      ]
     },
     "execution_count": 14,
     "metadata": {},
     "output_type": "execute_result"
    }
   ],
   "source": [
    "time.daylight"
   ]
  },
  {
   "cell_type": "raw",
   "metadata": {},
   "source": [
    "صفححه 221"
   ]
  },
  {
   "cell_type": "code",
   "execution_count": 15,
   "metadata": {},
   "outputs": [
    {
     "data": {
      "text/plain": [
       "-12600"
      ]
     },
     "execution_count": 15,
     "metadata": {},
     "output_type": "execute_result"
    }
   ],
   "source": [
    "time.timezone"
   ]
  },
  {
   "cell_type": "code",
   "execution_count": 16,
   "metadata": {},
   "outputs": [
    {
     "data": {
      "text/plain": [
       "('Iran Standard Time', 'Iran Daylight Time')"
      ]
     },
     "execution_count": 16,
     "metadata": {},
     "output_type": "execute_result"
    }
   ],
   "source": [
    " time.tzname"
   ]
  },
  {
   "cell_type": "code",
   "execution_count": 22,
   "metadata": {},
   "outputs": [
    {
     "data": {
      "text/plain": [
       "-16200"
      ]
     },
     "execution_count": 22,
     "metadata": {},
     "output_type": "execute_result"
    }
   ],
   "source": [
    "time.altzone"
   ]
  },
  {
   "cell_type": "code",
   "execution_count": 27,
   "metadata": {},
   "outputs": [
    {
     "name": "stdout",
     "output_type": "stream",
     "text": [
      "10:50:43 +0000\n",
      "10:50:45 +0000\n",
      "10:50:47 +0000\n"
     ]
    }
   ],
   "source": [
    "for i in range(3):\n",
    "    print(time.strftime(\"%H:%M:%S +0000\", time.gmtime()))\n",
    "    time.sleep(5)\n",
    "    \n"
   ]
  },
  {
   "cell_type": "raw",
   "metadata": {},
   "source": [
    "صفحه 22"
   ]
  },
  {
   "cell_type": "code",
   "execution_count": 31,
   "metadata": {},
   "outputs": [
    {
     "name": "stdout",
     "output_type": "stream",
     "text": [
      "From print_time 0 1605179174.6929007\n",
      "From print_time 1 1605179179.7119954\n",
      "From print_time 2 1605179184.696246\n",
      "From print_time 3 1605179189.7021713\n",
      "From print_time 4 1605179194.695672\n",
      "From print_time 5 1605179199.7008562\n",
      "From print_time 6 1605179204.692911\n",
      "From print_time 7 1605179209.6947324\n",
      "From print_time 8 1605179214.7015996\n",
      "From print_time 9 1605179219.7053568\n",
      "From print_time 10 1605179224.6944613\n"
     ]
    }
   ],
   "source": [
    "import time\n",
    "from threading import Timer\n",
    "def print_time(c):\n",
    "     print (f\"From print_time {c}\", time.time())\n",
    "\n",
    "def print_some_times():\n",
    "     n,end,lag=0,10,5\n",
    "     while n<=end:\n",
    "         Timer(lag*n, print_time, [n]).start()\n",
    "         n+=1\n",
    "\n",
    "\n",
    "print_some_times()\n",
    " "
   ]
  },
  {
   "cell_type": "code",
   "execution_count": 32,
   "metadata": {},
   "outputs": [],
   "source": [
    "from datetime import datetime,date,timedelta"
   ]
  },
  {
   "cell_type": "code",
   "execution_count": 33,
   "metadata": {},
   "outputs": [],
   "source": [
    "#from datetime import *"
   ]
  },
  {
   "cell_type": "code",
   "execution_count": 34,
   "metadata": {},
   "outputs": [
    {
     "data": {
      "text/plain": [
       "datetime.datetime(2020, 11, 12, 14, 37, 42, 999044)"
      ]
     },
     "execution_count": 34,
     "metadata": {},
     "output_type": "execute_result"
    }
   ],
   "source": [
    "from datetime import datetime\n",
    "datetime.now()\n"
   ]
  },
  {
   "cell_type": "raw",
   "metadata": {},
   "source": [
    "صفحه 223"
   ]
  },
  {
   "cell_type": "code",
   "execution_count": 35,
   "metadata": {},
   "outputs": [
    {
     "data": {
      "text/plain": [
       "datetime.datetime(2020, 11, 12, 11, 8, 17, 359211)"
      ]
     },
     "execution_count": 35,
     "metadata": {},
     "output_type": "execute_result"
    }
   ],
   "source": [
    "datetime.utcnow()"
   ]
  },
  {
   "cell_type": "code",
   "execution_count": 36,
   "metadata": {},
   "outputs": [],
   "source": [
    "d=datetime(2014,11,25,3,56,45,1000)"
   ]
  },
  {
   "cell_type": "code",
   "execution_count": 37,
   "metadata": {},
   "outputs": [
    {
     "data": {
      "text/plain": [
       "2014"
      ]
     },
     "execution_count": 37,
     "metadata": {},
     "output_type": "execute_result"
    }
   ],
   "source": [
    "d.year\n",
    "\n"
   ]
  },
  {
   "cell_type": "code",
   "execution_count": 39,
   "metadata": {},
   "outputs": [
    {
     "data": {
      "text/plain": [
       "25"
      ]
     },
     "execution_count": 39,
     "metadata": {},
     "output_type": "execute_result"
    }
   ],
   "source": [
    "d.day"
   ]
  },
  {
   "cell_type": "code",
   "execution_count": 41,
   "metadata": {},
   "outputs": [
    {
     "data": {
      "text/plain": [
       "1000"
      ]
     },
     "execution_count": 41,
     "metadata": {},
     "output_type": "execute_result"
    }
   ],
   "source": [
    "d.microsecond\n"
   ]
  },
  {
   "cell_type": "code",
   "execution_count": 42,
   "metadata": {},
   "outputs": [
    {
     "name": "stdout",
     "output_type": "stream",
     "text": [
      "None\n"
     ]
    }
   ],
   "source": [
    "print (d.tzinfo)"
   ]
  },
  {
   "cell_type": "code",
   "execution_count": 43,
   "metadata": {},
   "outputs": [
    {
     "data": {
      "text/plain": [
       "datetime.datetime"
      ]
     },
     "execution_count": 43,
     "metadata": {},
     "output_type": "execute_result"
    }
   ],
   "source": [
    "type(d)"
   ]
  },
  {
   "cell_type": "code",
   "execution_count": 44,
   "metadata": {},
   "outputs": [
    {
     "data": {
      "text/plain": [
       "datetime.date(2014, 11, 25)"
      ]
     },
     "execution_count": 44,
     "metadata": {},
     "output_type": "execute_result"
    }
   ],
   "source": [
    "d.date()"
   ]
  },
  {
   "cell_type": "code",
   "execution_count": 48,
   "metadata": {},
   "outputs": [
    {
     "data": {
      "text/plain": [
       "datetime.datetime(2006, 7, 14, 12, 30)"
      ]
     },
     "execution_count": 48,
     "metadata": {},
     "output_type": "execute_result"
    }
   ],
   "source": [
    "from datetime import date,time,datetime\n",
    "d = date(2006, 7, 14)\n",
    "t = time(12, 30)\n",
    "datetime.combine(d, t)\n"
   ]
  },
  {
   "cell_type": "raw",
   "metadata": {},
   "source": [
    "صفحه 224"
   ]
  },
  {
   "cell_type": "code",
   "execution_count": 49,
   "metadata": {},
   "outputs": [
    {
     "data": {
      "text/plain": [
       "datetime.datetime(2020, 11, 12, 14, 43, 20, 137188)"
      ]
     },
     "execution_count": 49,
     "metadata": {},
     "output_type": "execute_result"
    }
   ],
   "source": [
    "from datetime import datetime\n",
    "now = datetime.now()\n",
    "now\n",
    "\n"
   ]
  },
  {
   "cell_type": "code",
   "execution_count": 50,
   "metadata": {},
   "outputs": [
    {
     "data": {
      "text/plain": [
       "'2020-11-12 14:43:20'"
      ]
     },
     "execution_count": 50,
     "metadata": {},
     "output_type": "execute_result"
    }
   ],
   "source": [
    "now.strftime(\"%Y-%m-%d %H:%M:%S\")"
   ]
  },
  {
   "cell_type": "code",
   "execution_count": 51,
   "metadata": {},
   "outputs": [
    {
     "data": {
      "text/plain": [
       "datetime.datetime(2006, 11, 21, 16, 30, 47, 555500)"
      ]
     },
     "execution_count": 51,
     "metadata": {},
     "output_type": "execute_result"
    }
   ],
   "source": [
    "dt = datetime.strptime(\"21/11/2006 16:30:47.5555\", \"%d/%m/%Y %H:%M:%S.%f\")\n",
    "dt\n"
   ]
  },
  {
   "cell_type": "code",
   "execution_count": 52,
   "metadata": {},
   "outputs": [
    {
     "data": {
      "text/plain": [
       "'2006-11-21 16:30:47.555500'"
      ]
     },
     "execution_count": 52,
     "metadata": {},
     "output_type": "execute_result"
    }
   ],
   "source": [
    "str(dt)"
   ]
  },
  {
   "cell_type": "code",
   "execution_count": 53,
   "metadata": {},
   "outputs": [
    {
     "data": {
      "text/plain": [
       "'2006-11-21-16:30:47.555500'"
      ]
     },
     "execution_count": 53,
     "metadata": {},
     "output_type": "execute_result"
    }
   ],
   "source": [
    "dt.isoformat(\"-\")"
   ]
  },
  {
   "cell_type": "code",
   "execution_count": 54,
   "metadata": {},
   "outputs": [
    {
     "data": {
      "text/plain": [
       "'16:30:47'"
      ]
     },
     "execution_count": 54,
     "metadata": {},
     "output_type": "execute_result"
    }
   ],
   "source": [
    "dt.strftime(\"%X\")"
   ]
  },
  {
   "cell_type": "code",
   "execution_count": 55,
   "metadata": {},
   "outputs": [
    {
     "data": {
      "text/plain": [
       "'11/21/06'"
      ]
     },
     "execution_count": 55,
     "metadata": {},
     "output_type": "execute_result"
    }
   ],
   "source": [
    "dt.strftime(\"%x\")"
   ]
  },
  {
   "cell_type": "code",
   "execution_count": 56,
   "metadata": {},
   "outputs": [
    {
     "data": {
      "text/plain": [
       "'Tue Nov 21 16:30:47 2006'"
      ]
     },
     "execution_count": 56,
     "metadata": {},
     "output_type": "execute_result"
    }
   ],
   "source": [
    "dt.strftime(\"%c\")"
   ]
  },
  {
   "cell_type": "code",
   "execution_count": 57,
   "metadata": {},
   "outputs": [
    {
     "data": {
      "text/plain": [
       "'21-11-2006 16:30 Tue'"
      ]
     },
     "execution_count": 57,
     "metadata": {},
     "output_type": "execute_result"
    }
   ],
   "source": [
    "dt.strftime(\"%d-%m-%Y %H:%M %a\")"
   ]
  },
  {
   "cell_type": "code",
   "execution_count": 58,
   "metadata": {},
   "outputs": [
    {
     "data": {
      "text/plain": [
       "'Tuesday, 21. November 2006 04:30PM'"
      ]
     },
     "execution_count": 58,
     "metadata": {},
     "output_type": "execute_result"
    }
   ],
   "source": [
    "dt.strftime(\"%A, %d. %B %Y %I:%M%p\")"
   ]
  },
  {
   "cell_type": "code",
   "execution_count": 59,
   "metadata": {},
   "outputs": [
    {
     "name": "stdout",
     "output_type": "stream",
     "text": [
      "2018-01-05 17:00:00\n"
     ]
    }
   ],
   "source": [
    "textStr = \"On January the 5th of 2018 meet me at 5 PM\"\n",
    "dtm = datetime.strptime(textStr, \"On %B the %dth of %Y meet me at %I %p\")\n",
    "print(dtm)"
   ]
  },
  {
   "cell_type": "raw",
   "metadata": {},
   "source": [
    "صفحه 225"
   ]
  },
  {
   "cell_type": "code",
   "execution_count": 60,
   "metadata": {},
   "outputs": [
    {
     "data": {
      "text/plain": [
       "'The year is 2006, the day is 21,the month is November.'"
      ]
     },
     "execution_count": 60,
     "metadata": {},
     "output_type": "execute_result"
    }
   ],
   "source": [
    "'The {1} is {0:%Y}, the {2} is {0:%d},the {3} is {0:%B}.'.format(dt, \"year\",\"day\", \"month\")"
   ]
  },
  {
   "cell_type": "code",
   "execution_count": 61,
   "metadata": {},
   "outputs": [
    {
     "name": "stdout",
     "output_type": "stream",
     "text": [
      "time.struct_time(tm_year=2006, tm_mon=11, tm_mday=21, tm_hour=16, tm_min=30, tm_sec=47, tm_wday=1, tm_yday=325, tm_isdst=-1)\n"
     ]
    }
   ],
   "source": [
    "tt=dt.timetuple()\n",
    "print(tt)\n"
   ]
  },
  {
   "cell_type": "code",
   "execution_count": 62,
   "metadata": {},
   "outputs": [
    {
     "name": "stdout",
     "output_type": "stream",
     "text": [
      "2006\n",
      "11\n",
      "21\n",
      "16\n",
      "30\n",
      "47\n",
      "1\n",
      "325\n",
      "-1\n"
     ]
    }
   ],
   "source": [
    "for item in tt:\n",
    "    print (item)\n"
   ]
  },
  {
   "cell_type": "raw",
   "metadata": {},
   "source": [
    "صفحه 226"
   ]
  },
  {
   "cell_type": "code",
   "execution_count": 64,
   "metadata": {},
   "outputs": [
    {
     "data": {
      "text/plain": [
       "'2004-05-02'"
      ]
     },
     "execution_count": 64,
     "metadata": {},
     "output_type": "execute_result"
    }
   ],
   "source": [
    "from datetime import datetime\n",
    "datetime.strptime(\"2004-123\", '%Y-%j').strftime('%Y-%m-%d')\n"
   ]
  },
  {
   "cell_type": "code",
   "execution_count": 65,
   "metadata": {},
   "outputs": [
    {
     "data": {
      "text/plain": [
       "datetime.datetime(2020, 11, 12, 14, 50, 50, 3)"
      ]
     },
     "execution_count": 65,
     "metadata": {},
     "output_type": "execute_result"
    }
   ],
   "source": [
    "from time import localtime\n",
    "x = localtime()\n",
    "datetime(*x[:7])\n"
   ]
  },
  {
   "cell_type": "code",
   "execution_count": 66,
   "metadata": {},
   "outputs": [
    {
     "data": {
      "text/plain": [
       "732699"
      ]
     },
     "execution_count": 66,
     "metadata": {},
     "output_type": "execute_result"
    }
   ],
   "source": [
    "from datetime import datetime\n",
    "dt=datetime(2007,1,23,3,45,32,100)\n",
    "dt.toordinal()\n",
    "\n"
   ]
  },
  {
   "cell_type": "code",
   "execution_count": 67,
   "metadata": {},
   "outputs": [
    {
     "data": {
      "text/plain": [
       "datetime.datetime(2007, 1, 23, 0, 0)"
      ]
     },
     "execution_count": 67,
     "metadata": {},
     "output_type": "execute_result"
    }
   ],
   "source": [
    "datetime.fromordinal(732699)"
   ]
  },
  {
   "cell_type": "raw",
   "metadata": {},
   "source": [
    "صفحه227"
   ]
  },
  {
   "cell_type": "code",
   "execution_count": 68,
   "metadata": {},
   "outputs": [
    {
     "data": {
      "text/plain": [
       "datetime.datetime(1, 1, 1, 0, 0)"
      ]
     },
     "execution_count": 68,
     "metadata": {},
     "output_type": "execute_result"
    }
   ],
   "source": [
    "datetime.fromordinal(1)"
   ]
  },
  {
   "cell_type": "code",
   "execution_count": 69,
   "metadata": {},
   "outputs": [
    {
     "name": "stdout",
     "output_type": "stream",
     "text": [
      "2007-03-04 04:16:43.100000\n"
     ]
    }
   ],
   "source": [
    "from datetime import datetime\n",
    "du = datetime.fromtimestamp(1172969203.1)\n",
    "print(du)\n"
   ]
  },
  {
   "cell_type": "code",
   "execution_count": 73,
   "metadata": {},
   "outputs": [
    {
     "data": {
      "text/plain": [
       "1172969203.1"
      ]
     },
     "execution_count": 73,
     "metadata": {},
     "output_type": "execute_result"
    }
   ],
   "source": [
    "from time import mktime\n",
    "mktime(du.timetuple())+1e-6*du.microsecond\n"
   ]
  },
  {
   "cell_type": "code",
   "execution_count": 74,
   "metadata": {},
   "outputs": [
    {
     "data": {
      "text/plain": [
       "datetime.timedelta(days=5)"
      ]
     },
     "execution_count": 74,
     "metadata": {},
     "output_type": "execute_result"
    }
   ],
   "source": [
    "from datetime import timedelta\n",
    "d5=timedelta(days=5)\n",
    "d5\n"
   ]
  },
  {
   "cell_type": "code",
   "execution_count": 75,
   "metadata": {},
   "outputs": [
    {
     "name": "stdout",
     "output_type": "stream",
     "text": [
      "-1 86399 999999\n"
     ]
    }
   ],
   "source": [
    "d = timedelta(microseconds=-1)\n",
    "print (d.days, d.seconds, d.microseconds)\n"
   ]
  },
  {
   "cell_type": "raw",
   "metadata": {},
   "source": [
    "صفحه 228"
   ]
  },
  {
   "cell_type": "code",
   "execution_count": 78,
   "metadata": {},
   "outputs": [
    {
     "name": "stdout",
     "output_type": "stream",
     "text": [
      "5 days, 0:00:00\n"
     ]
    }
   ],
   "source": [
    "timedelta(hours=-5)\n",
    "print(_)\n"
   ]
  },
  {
   "cell_type": "code",
   "execution_count": 81,
   "metadata": {},
   "outputs": [
    {
     "data": {
      "text/plain": [
       "31536000.0"
      ]
     },
     "execution_count": 81,
     "metadata": {},
     "output_type": "execute_result"
    }
   ],
   "source": [
    "year = timedelta(days=365)\n",
    "year.total_seconds()"
   ]
  },
  {
   "cell_type": "code",
   "execution_count": 80,
   "metadata": {},
   "outputs": [
    {
     "data": {
      "text/plain": [
       "datetime.timedelta(days=365)"
      ]
     },
     "execution_count": 80,
     "metadata": {},
     "output_type": "execute_result"
    }
   ],
   "source": [
    "another_year = timedelta(weeks=40, days=84, hours=23, minutes=50, seconds=600)\n",
    "\n",
    "another_year\n"
   ]
  },
  {
   "cell_type": "code",
   "execution_count": 82,
   "metadata": {},
   "outputs": [
    {
     "data": {
      "text/plain": [
       "True"
      ]
     },
     "execution_count": 82,
     "metadata": {},
     "output_type": "execute_result"
    }
   ],
   "source": [
    "year == another_year"
   ]
  },
  {
   "cell_type": "code",
   "execution_count": 83,
   "metadata": {},
   "outputs": [
    {
     "data": {
      "text/plain": [
       "(datetime.timedelta(days=3285), 9)"
      ]
     },
     "execution_count": 83,
     "metadata": {},
     "output_type": "execute_result"
    }
   ],
   "source": [
    "ten_years = 10 * year\n",
    "ten_years, ten_years.days // 365\n",
    "nine_years = ten_years - year\n",
    "nine_years, nine_years.days // 365\n",
    "\n"
   ]
  },
  {
   "cell_type": "code",
   "execution_count": 84,
   "metadata": {},
   "outputs": [
    {
     "data": {
      "text/plain": [
       "True"
      ]
     },
     "execution_count": 84,
     "metadata": {},
     "output_type": "execute_result"
    }
   ],
   "source": [
    "three_years = nine_years // 3\n",
    "three_years, three_years.days // 365\n",
    "abs(three_years - ten_years) == 2 * three_years + year"
   ]
  },
  {
   "cell_type": "raw",
   "metadata": {},
   "source": [
    "صفحه \n",
    "229\n",
    "#pip install jdatetime"
   ]
  },
  {
   "cell_type": "code",
   "execution_count": 86,
   "metadata": {},
   "outputs": [],
   "source": [
    "import jdatetime as jd"
   ]
  },
  {
   "cell_type": "code",
   "execution_count": 87,
   "metadata": {},
   "outputs": [
    {
     "name": "stdout",
     "output_type": "stream",
     "text": [
      "1379 12 5\n"
     ]
    }
   ],
   "source": [
    "j=jd.GregorianToJalali(2001,2,23)\n",
    "print (j.jyear,j.jmonth,j.jday)\n"
   ]
  },
  {
   "cell_type": "code",
   "execution_count": 88,
   "metadata": {},
   "outputs": [
    {
     "name": "stdout",
     "output_type": "stream",
     "text": [
      "1379 12 5\n"
     ]
    }
   ],
   "source": [
    "jyear,jmonth, jday=j.getJalaliList()\n",
    "print(jyear,jmonth, jday)\n"
   ]
  },
  {
   "cell_type": "code",
   "execution_count": 89,
   "metadata": {},
   "outputs": [
    {
     "name": "stdout",
     "output_type": "stream",
     "text": [
      "1982 3 16\n"
     ]
    }
   ],
   "source": [
    "s=jd.JalaliToGregorian(1360,12,25)\n",
    "print (s.gyear,s.gmonth,s.gday)\n"
   ]
  },
  {
   "cell_type": "raw",
   "metadata": {},
   "source": [
    "تمرین عملی"
   ]
  },
  {
   "cell_type": "raw",
   "metadata": {},
   "source": [
    "مسئله 1"
   ]
  },
  {
   "cell_type": "code",
   "execution_count": 90,
   "metadata": {},
   "outputs": [],
   "source": [
    "from datetime import date\n",
    "import jdatetime as jd\n",
    "def convert( year, month, day):\n",
    "    datej=jd.JalaliToGregorian(year,month,day)\n",
    "    dateg=date(*datej.getGregorianList())\n",
    "    jday=dateg.timetuple().tm_yday\n",
    "    f=dateg.strftime(\"day:%A, day numer in week: %w, and Julian day:%j\")\n",
    "    return f\n"
   ]
  },
  {
   "cell_type": "raw",
   "metadata": {},
   "source": [
    "صفحه 230"
   ]
  },
  {
   "cell_type": "code",
   "execution_count": 91,
   "metadata": {},
   "outputs": [],
   "source": [
    "d=convert( 1379, 12, 29)"
   ]
  },
  {
   "cell_type": "code",
   "execution_count": 93,
   "metadata": {},
   "outputs": [
    {
     "data": {
      "text/plain": [
       "'day:Monday, day numer in week: 1, and Julian day:078'"
      ]
     },
     "execution_count": 93,
     "metadata": {},
     "output_type": "execute_result"
    }
   ],
   "source": [
    "d"
   ]
  },
  {
   "cell_type": "raw",
   "metadata": {},
   "source": [
    "صفحه 231"
   ]
  },
  {
   "cell_type": "raw",
   "metadata": {},
   "source": [
    "مسئله 2 : راه حل اول"
   ]
  },
  {
   "cell_type": "code",
   "execution_count": 97,
   "metadata": {},
   "outputs": [],
   "source": [
    "import jdatetime as jd\n",
    "from datetime import timedelta, datetime\n",
    "import csv\n",
    "td=timedelta(days=15)\n",
    "date1=datetime(2011,1,1)\n",
    "date2=datetime(2012,1,1)\n",
    "with open('d:/dates.csv', 'w', newline='') as csvfile:\n",
    "    writer = csv.writer(csvfile, delimiter=',')\n",
    "    writer.writerow([\"row\", \"Jalali\", \"Gregory\"])\n",
    "    i=0\n",
    "    while date1<date2:\n",
    "        g=jd.GregorianToJalali(date1.year,date1.month,    date1.day)\n",
    "        jdat=list(map(str,g.getJalaliList()))\n",
    "        jdat=\"-\".join(jdat)\n",
    "        i+=1\n",
    "        dates=[str(i), jdat, date1.strftime(\"%Y-%m-%d\")]\n",
    "        \n",
    "        writer.writerow(dates)\n",
    "        date1+=td"
   ]
  },
  {
   "cell_type": "raw",
   "metadata": {},
   "source": [
    "مسئله 2 : راه حل دوم"
   ]
  },
  {
   "cell_type": "code",
   "execution_count": 96,
   "metadata": {},
   "outputs": [],
   "source": [
    "import jdatetime as jd\n",
    "from datetime import timedelta, datetime\n",
    "import csv\n",
    "def date_range(start, end, delta):\n",
    "    td=timedelta(days=15)\n",
    "    d1=datetime.strptime( start,\"%Y-%m-%d\")\n",
    "    d2=datetime.strptime( end,\"%Y-%m-%d\")\n",
    "    lists=[]\n",
    "    while d1<d2:\n",
    "        g=jd.GregorianToJalali(d1.year,d1.month, d1.day)\n",
    "        jdat=list(map(str,g.getJalaliList()))\n",
    "        dates=[\"-\".join(jdat), d1.strftime(\"%Y-%m-%d\")]\n",
    "        d1+=td\n",
    "        lists.append(dates)\n",
    "    return lists\n",
    "dr=date_range(\"2011-1-1\",\"2012-1-1\",15)\n",
    "\n",
    "with open('d:/dates.csv', 'w', newline='') as csvfile:\n",
    "    writer = csv.writer(csvfile, delimiter=',')\n",
    "    writer.writerow([\"index\", \"Jalali\", \"Gregory\"])\n",
    "    for  i in range(len(dr)):\n",
    "        writer.writerow([str(i+1)]+dr[i])"
   ]
  },
  {
   "cell_type": "raw",
   "metadata": {},
   "source": [
    "مسئله 3"
   ]
  },
  {
   "cell_type": "code",
   "execution_count": 98,
   "metadata": {},
   "outputs": [
    {
     "name": "stdout",
     "output_type": "stream",
     "text": [
      "32.49007529089665\n"
     ]
    }
   ],
   "source": [
    "from datetime import date\n",
    "import jdatetime as jd\n",
    "today=date(2019,2,3)\n",
    "birthday=jd.JalaliToGregorian(1365,5,17)\n",
    "birthdayg=date(*birthday.getGregorianList())\n",
    "delta=today-birthdayg\n",
    "y=delta.days/365.25\n",
    "print(y)"
   ]
  },
  {
   "cell_type": "raw",
   "metadata": {},
   "source": [
    "مسئله 4"
   ]
  },
  {
   "cell_type": "code",
   "execution_count": 100,
   "metadata": {},
   "outputs": [
    {
     "data": {
      "text/plain": [
       "((1369, 8, 22), (1990, 11, 13))"
      ]
     },
     "execution_count": 100,
     "metadata": {},
     "output_type": "execute_result"
    }
   ],
   "source": [
    "from datetime import  datetime, timedelta\n",
    "def age2date(age):\n",
    "    bd=datetime.now()-age*timedelta(days=365.25)\n",
    "    g=jd.GregorianToJalali(bd.year,bd.month,bd.day)\n",
    "    return  (g.jyear, g.jmonth,g.jday),( g.gyear, g.gmonth,g.gday)\n",
    "age2date(30)"
   ]
  },
  {
   "cell_type": "raw",
   "metadata": {},
   "source": [
    "مسئله 5"
   ]
  },
  {
   "cell_type": "code",
   "execution_count": 102,
   "metadata": {},
   "outputs": [
    {
     "data": {
      "text/plain": [
       "-32.68333333333333"
      ]
     },
     "execution_count": 102,
     "metadata": {},
     "output_type": "execute_result"
    }
   ],
   "source": [
    "import time\n",
    "m=time.strptime('2019-12-11 11:46:3',\"%Y-%m-%d %H:%M:%S\")\n",
    "m=time.mktime(m)\n",
    "t=time.strptime('2019-12-11 12:18:44',\"%Y-%m-%d %H:%M:%S\")\n",
    "t=time.mktime(t)\n",
    "minutes=(m-t)/60\n",
    "minutes\n"
   ]
  },
  {
   "cell_type": "code",
   "execution_count": 103,
   "metadata": {},
   "outputs": [
    {
     "data": {
      "text/plain": [
       "-1961.0"
      ]
     },
     "execution_count": 103,
     "metadata": {},
     "output_type": "execute_result"
    }
   ],
   "source": [
    "m-t"
   ]
  },
  {
   "cell_type": "code",
   "execution_count": null,
   "metadata": {},
   "outputs": [],
   "source": []
  }
 ],
 "metadata": {
  "kernelspec": {
   "display_name": "tf",
   "language": "python",
   "name": "tf"
  },
  "language_info": {
   "codemirror_mode": {
    "name": "ipython",
    "version": 3
   },
   "file_extension": ".py",
   "mimetype": "text/x-python",
   "name": "python",
   "nbconvert_exporter": "python",
   "pygments_lexer": "ipython3",
   "version": "3.7.8"
  }
 },
 "nbformat": 4,
 "nbformat_minor": 4
}
