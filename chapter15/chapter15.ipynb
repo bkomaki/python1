{
 "cells": [
  {
   "cell_type": "raw",
   "metadata": {},
   "source": [
    "فصل 15\n",
    "صفحه\n",
    "235"
   ]
  },
  {
   "cell_type": "code",
   "execution_count": 1,
   "metadata": {},
   "outputs": [],
   "source": [
    "from __future__ import division\n",
    "from datetime import datetime"
   ]
  },
  {
   "cell_type": "code",
   "execution_count": 2,
   "metadata": {},
   "outputs": [],
   "source": [
    "dateparser=lambda x:datetime.strptime(x,\n",
    "                                      \"%Y-%m-%d\") if \"-\" in x else datetime.strptime(x,\n",
    "                                                                                     \"%m/%d/%Y\")"
   ]
  },
  {
   "cell_type": "raw",
   "metadata": {},
   "source": [
    "فصل 15\n",
    "صفحه\n",
    "236"
   ]
  },
  {
   "cell_type": "code",
   "execution_count": 3,
   "metadata": {},
   "outputs": [],
   "source": [
    "summov=lambda x,win:[sum(x[i:win+i])for i in range(len(x[win-1:]))]"
   ]
  },
  {
   "cell_type": "raw",
   "metadata": {},
   "source": [
    "فصل 15\n",
    "صفحه\n",
    "239"
   ]
  },
  {
   "cell_type": "code",
   "execution_count": 4,
   "metadata": {},
   "outputs": [],
   "source": [
    "from math import sqrt,log,e\n",
    "def gammafit (data):\n",
    "    n=len(data)\n",
    "    if n==0:\n",
    "        return 0,0\n",
    "    while 0 in data:\n",
    "        data.remove(0)\n",
    "    nact=len(data)\n",
    "    if  nact>0:\n",
    "        mn=sum(data)/nact\n",
    "    if nact==1 or sum(data)==0 or sum(data)/nact==data[0]:\n",
    "        alpha,gamm,mn=0.0,1.0,mn\n",
    "        return gamm, mn\n",
    "    sumlog=sum([log(i)for i in data])\n",
    "    A=log(mn)-sumlog/nact\n",
    "##    print(data)\n",
    "    k=(1.0+sqrt(1.0+4.0*A/3.0))/(4.0*A)\n",
    "    theta=mn/k\n",
    "    return k,theta\n"
   ]
  },
  {
   "cell_type": "raw",
   "metadata": {},
   "source": [
    "فصل 15\n",
    "صفحه\n",
    "241"
   ]
  },
  {
   "cell_type": "code",
   "execution_count": 5,
   "metadata": {},
   "outputs": [],
   "source": [
    "def lower_incomplete_gamma(a,x,d=0,iterations=100):\n",
    "    if d == iterations:\n",
    "        if ((d % 2) == 1):\n",
    "            return 1.0 # end iterations\n",
    "        else:\n",
    "            m = d/2\n",
    "            return x + (m-a)\n",
    "    if d == 0:\n",
    "        result = ((x**a) * (e**(-x)))/lower_incomplete_gamma(a,x,d=d+1)\n",
    "        return result\n",
    "    elif ((d % 2) == 1):\n",
    "        m = d - 1\n",
    "        n = (d-1.0)/2.0\n",
    "        return a + m - (((a+n)*x)/lower_incomplete_gamma(a,x,d=d+1))\n",
    "    else:\n",
    "        m = d-1\n",
    "        n = d/2.0\n",
    "        return a+m+((n*x)/(lower_incomplete_gamma(a,x,d=d+1)))\n"
   ]
  },
  {
   "cell_type": "raw",
   "metadata": {},
   "source": [
    "فصل 15\n",
    "صفحه\n",
    "242"
   ]
  },
  {
   "cell_type": "code",
   "execution_count": null,
   "metadata": {},
   "outputs": [],
   "source": [
    "def gammainc (a,b):\n",
    "    from math import gamma\n",
    "    return lower_incomplete_gamma(a,b)/gamma(a)"
   ]
  },
  {
   "cell_type": "raw",
   "metadata": {},
   "source": [
    "فصل 15\n",
    "صفحه\n",
    "243"
   ]
  },
  {
   "cell_type": "code",
   "execution_count": 6,
   "metadata": {},
   "outputs": [],
   "source": [
    "def cdf2Z(p):\n",
    "    c=p\n",
    "    \"\"\" P probably betwen 0 and 1 \"\"\"\n",
    "    if p<=0 or p>1 :\n",
    "        print(\"p={} is out of range\".format(c))\n",
    "        return float(\"inf\")\n",
    "    if (c-0.5)>0:\n",
    "        c=1. - c\n",
    "    if (c-0.5)<0:\n",
    "        #print(c)\n",
    "        dt2= -2*log(c)\n",
    "        t=sqrt(dt2)\n",
    "        ppf= t- ((.010328*t + .802853)*t+ 2.515517) /\\\n",
    "             (((.001308*t + .189269)*t + 1.432788)*t + 1.)\n",
    "        if p<0.5:\n",
    "            ppf=-ppf\n",
    "        return ppf\n",
    "    if c-0.5==0:\n",
    "        return 0"
   ]
  },
  {
   "cell_type": "raw",
   "metadata": {},
   "source": [
    "فصل 15\n",
    "صفحه\n",
    "244"
   ]
  },
  {
   "cell_type": "code",
   "execution_count": 7,
   "metadata": {},
   "outputs": [],
   "source": [
    "from collections import Counter\n",
    "def SPI_function(x, fit=gammafit):\n",
    "    zeros=Counter(x)[0]\n",
    "    pzero=zeros/len(x) \n",
    "    x2=list(x[:])\n",
    "    while 0 in x2 :\n",
    "        x2.remove(0)\n",
    "    if fit== gammafit:\n",
    "        \n",
    "        k,theta=fit(x2)# apply fit function\n",
    "        print(pzero)\n",
    "        if pzero<1:\n",
    "            cdf1=[cdf2Z(pzero + (1.-pzero) *gammainc(k,i/theta)) for i in x]\n",
    "        else:\n",
    "            cdf1=[cdf2Z(pzero-0.0001 ) for i in x]\n",
    "            \n",
    "    print(str(fit.__name__),\n",
    "          \"shape ={}, scale= {}, pzero={}\".format(k,theta,pzero))\n",
    "    return cdf1"
   ]
  },
  {
   "cell_type": "raw",
   "metadata": {},
   "source": [
    "فصل 15\n",
    "صفحه\n",
    "245"
   ]
  },
  {
   "cell_type": "code",
   "execution_count": 8,
   "metadata": {},
   "outputs": [],
   "source": [
    "import io, csv\n",
    "from collections import defaultdict\n",
    "def readcsv(infile):\n",
    "    \"\"\"input file name, csv format\"\"\"\n",
    "    with io.open(infile, newline='') as csvfile:\n",
    "            data = defaultdict(list)\n",
    "            reader = csv.DictReader(csvfile)\n",
    "            for row in reader:\n",
    "                for key in  row:\n",
    "                    try:\n",
    "                        data[key].append(dateparser(row[key]))\n",
    "                    except:\n",
    "                        if row[key]==\"NA\":\n",
    "                            row[key]=float(\"nan\")\n",
    "                        data[key].append(float(row[key]))  \n",
    "    return data"
   ]
  },
  {
   "cell_type": "raw",
   "metadata": {},
   "source": [
    "فصل 15\n",
    "صفحه\n",
    "246"
   ]
  },
  {
   "cell_type": "code",
   "execution_count": 9,
   "metadata": {},
   "outputs": [],
   "source": [
    "def write (data, outfile, fields=None):\n",
    "    with io.open(outfile, 'w', newline='') as csvfile:\n",
    "        if fields==None:\n",
    "            fields=list(data.keys())\n",
    "            print(fields)\n",
    "        csvWriter = csv.DictWriter(csvfile, fieldnames=fields)\n",
    "        csvWriter.writeheader()\n",
    "    with io.open(outfile, 'a', newline='') as csvfile:\n",
    "        writer = csv.writer(csvfile, delimiter=',', quotechar='\"',\n",
    "                            quoting=csv.QUOTE_MINIMAL)\n",
    "        for  row in list(zip(*data.values())):\n",
    "            row=list(row)\n",
    "            row[0]=row[0].strftime(\"%Y-%m-%d\")\n",
    "            #print(row)\n",
    "            writer.writerow(row)\n",
    "##            if not row:\n",
    "##                print(\"empty\")\n",
    "    print(\"The result is saved as {}\".format(outfile))"
   ]
  },
  {
   "cell_type": "raw",
   "metadata": {},
   "source": [
    "فصل 15\n",
    "صفحه\n",
    "247"
   ]
  },
  {
   "cell_type": "code",
   "execution_count": 10,
   "metadata": {},
   "outputs": [],
   "source": [
    "from itertools import groupby\n",
    "def group(indata,indate,func=None, fit=None):\n",
    "    zdata=list(zip(indata,indate))\n",
    "    grp=groupby(zdata, lambda x: x[1].month)\n",
    "    P=defaultdict(list)\n",
    "    gdates= defaultdict(list)\n",
    "    for i, g in grp:\n",
    "            for v , d in g:\n",
    "                    gdates[i].append(d)\n",
    "                    P[i].append(v)\n",
    "    res=defaultdict(list)\n",
    "    for key  in P:\n",
    "            spiout=func(P[key],fit=fit)\n",
    "            kdates=gdates[key]\n",
    "            for d in kdates:\n",
    "                    res[\"date\"].append(d)\n",
    "            for v in spiout:\n",
    "                res[\"spi\"].append(v)\n",
    "    zdata=list(zip(res[\"spi\"],res[\"date\"]))\n",
    "    zdata.sort(key=lambda x :x[1])\n",
    "    res.clear()\n",
    "    for  k in zdata:\n",
    "            res[\"spi\"].append(k[0])\n",
    "            res[\"date\"].append(k[1])\n",
    "    sp,dat=res[\"spi\"],res[\"date\"]\n",
    "    return sp,dat"
   ]
  },
  {
   "cell_type": "raw",
   "metadata": {},
   "source": [
    "فصل 15\n",
    "صفحه\n",
    "248"
   ]
  },
  {
   "cell_type": "raw",
   "metadata": {},
   "source": [
    "try:\n",
    "    import util\n",
    "except:\n",
    "    from . import util\n",
    "from collections import  defaultdict"
   ]
  },
  {
   "cell_type": "code",
   "execution_count": 12,
   "metadata": {},
   "outputs": [],
   "source": [
    "\n",
    "from collections import  defaultdict\n",
    "class SPI (object):\n",
    "    def __init__(self, indata,dates,scales):\n",
    "        self.scales=scales\n",
    "        self.rain=indata\n",
    "        self.dates=dates\n",
    "    def calculate(self,fit=None):\n",
    "        spiData=defaultdict(list)\n",
    "        spiData[\"date\"]=self.dates\n",
    "        for scale in self.scales:\n",
    "            dates2=self.dates[scale-1:]\n",
    "            raindata=summov(self.rain,scale)\n",
    "            spis,groupdate=group(raindata,dates2,func=util.SPI_function, fit=fit)\n",
    "            lags= [float(\"nan\") for i in range(scale-1)]\n",
    "            spiData[scale]=lags+spis\n",
    "        self.fields=spiData.keys()\n",
    "        return spiData"
   ]
  },
  {
   "cell_type": "raw",
   "metadata": {},
   "source": [
    "فصل 15\n",
    "صفحه\n",
    "251"
   ]
  },
  {
   "cell_type": "code",
   "execution_count": 16,
   "metadata": {},
   "outputs": [
    {
     "name": "stdout",
     "output_type": "stream",
     "text": [
      "0.0\n",
      "gammafit shape =3.434454830234581, scale= 9.851151057654887, pzero=0.0\n",
      "0.0\n",
      "gammafit shape =4.600680924460504, scale= 8.813912693750886, pzero=0.0\n",
      "0.0\n",
      "gammafit shape =4.454341342077246, scale= 11.080326307579066, pzero=0.0\n",
      "0.0\n",
      "gammafit shape =2.0083821811361875, scale= 21.71731410303179, pzero=0.0\n",
      "0.0\n",
      "gammafit shape =1.0215820760193608, scale= 19.082602271572146, pzero=0.0\n",
      "0.0\n",
      "gammafit shape =0.7961488396912502, scale= 25.204667351457303, pzero=0.0\n",
      "0.16666666666666666\n",
      "gammafit shape =0.7573845798561917, scale= 26.705939366374743, pzero=0.16666666666666666\n",
      "0.16666666666666666\n",
      "gammafit shape =0.7778806857489468, scale= 16.429254812639247, pzero=0.16666666666666666\n",
      "0.05555555555555555\n",
      "gammafit shape =0.611202280895485, scale= 39.92131698895341, pzero=0.05555555555555555\n",
      "0.0\n",
      "gammafit shape =1.7986888280665014, scale= 16.36377169528131, pzero=0.0\n",
      "0.0\n",
      "gammafit shape =2.6921303193273163, scale= 13.851071258023751, pzero=0.0\n",
      "0.0\n",
      "gammafit shape =2.163314489246653, scale= 14.525036640957648, pzero=0.0\n",
      "0.0\n",
      "gammafit shape =13.029673933205197, scale= 9.49669880637221, pzero=0.0\n",
      "0.0\n",
      "gammafit shape =9.347540522244998, scale= 14.284208975020757, pzero=0.0\n",
      "0.0\n",
      "gammafit shape =6.333497914693897, scale= 17.757433282758452, pzero=0.0\n",
      "0.0\n",
      "gammafit shape =4.079353692579067, scale= 20.389940183193758, pzero=0.0\n",
      "0.0\n",
      "gammafit shape =3.075885595900355, scale= 18.341601112167734, pzero=0.0\n",
      "0.0\n",
      "gammafit shape =1.9580549552101494, scale= 24.295652221424252, pzero=0.0\n",
      "0.0\n",
      "gammafit shape =1.8098245654463654, scale= 27.930884001197438, pzero=0.0\n",
      "0.0\n",
      "gammafit shape =3.3026095154805013, scale= 19.114514592741134, pzero=0.0\n",
      "0.0\n",
      "gammafit shape =5.320629889157105, scale= 16.87143600226768, pzero=0.0\n",
      "0.0\n",
      "gammafit shape =6.059100168083149, scale= 16.19785805183236, pzero=0.0\n",
      "0.0\n",
      "gammafit shape =11.894028683991086, scale= 8.96099679704256, pzero=0.0\n",
      "0.0\n",
      "gammafit shape =11.316616434344624, scale= 9.513340330478965, pzero=0.0\n",
      "0.0\n",
      "gammafit shape =13.351277627971015, scale= 15.497892593677692, pzero=0.0\n",
      "0.0\n",
      "gammafit shape =10.302583720976939, scale= 18.436044203373672, pzero=0.0\n",
      "0.0\n",
      "gammafit shape =7.1606240350333765, scale= 22.349852206441522, pzero=0.0\n",
      "0.0\n",
      "gammafit shape =8.539564088965454, scale= 15.6597897017456, pzero=0.0\n",
      "0.0\n",
      "gammafit shape =6.05893216674963, scale= 19.73028268916487, pzero=0.0\n",
      "0.0\n",
      "gammafit shape =6.864028129233978, scale= 20.008497387118922, pzero=0.0\n",
      "0.0\n",
      "gammafit shape =8.899680808514994, scale= 16.70784016233226, pzero=0.0\n",
      "0.0\n",
      "gammafit shape =14.774360859623995, scale= 11.494873678686357, pzero=0.0\n",
      "0.0\n",
      "gammafit shape =17.17826800942156, scale= 11.573788867991835, pzero=0.0\n",
      "0.0\n",
      "gammafit shape =18.748217535309045, scale= 12.080834736448738, pzero=0.0\n",
      "0.0\n",
      "gammafit shape =19.685110161876413, scale= 12.197932604098527, pzero=0.0\n",
      "0.0\n",
      "gammafit shape =15.486298066134225, scale= 14.301446972182774, pzero=0.0\n",
      "['date', 1, 3, 6]\n",
      "The result is saved as D:\\spi\\pydrought\\spi.csv\n"
     ]
    }
   ],
   "source": [
    "#run1.py\n",
    "##import sys\n",
    "##sys.path.append(r\"D:\\spi\")\n",
    "import os\n",
    "os.chdir(r\"D:\\spi/pydrought\")\n",
    "from pydrought import SPI\n",
    "from pydrought.util import readcsv,write\n",
    "import util\n",
    "data=r\"data\\Rain.csv\"\n",
    "data=readcsv(data)\n",
    "rain,dates=data[\"RAIN\"],data[\"date\"]\n",
    "spi=SPI(rain,dates,[1,3,6])\n",
    "spivalue=spi.calculate(fit=util.gammafit)\n",
    "write(spivalue,r\"D:\\spi\\pydrought\\spi.csv\")"
   ]
  },
  {
   "cell_type": "raw",
   "metadata": {},
   "source": [
    "فصل 15\n",
    "صفحه\n",
    "252"
   ]
  },
  {
   "cell_type": "raw",
   "metadata": {},
   "source": [
    "def main():\n",
    "    import sys\n",
    "    # make sure there are at least three arguments\n",
    "    if  len(sys.argv) >=6:\n",
    "        script = sys.argv[0]\n",
    "        infile = sys.argv[1]\n",
    "        raincol ,datecol= sys.argv[2], sys.argv[3]\n",
    "        outfile = sys.argv[4]\n",
    "        scales=sys.argv[5:]\n",
    "        scales=map(int,scales)\n",
    "        data=util.readcsv(infile)\n",
    "        rain,dates=data[raincol],data[datecol]\n",
    "        myspi=SPI(rain,dates,scales).calculate(fit=util.gammafit)\n",
    "        util.write(myspi,outfile)\n",
    "        print ('SPI is calcualted and saved in {}'.format(outfile))\n",
    "    else:\n",
    "        print (\"\\nUsage: spi  <infile> <rain col> <date col>\\\n",
    "<outfile> <scale>\\n\")\n",
    "        print (\"Example: spi.py  d:/Rain.csv  Rain \\\n",
    "date d:/spi.csv 1 3 6 9 12 24\\n\")\n",
    "        #sys.exit(2)\n",
    "if __name__ == '__main__':\n",
    "    main()"
   ]
  },
  {
   "cell_type": "raw",
   "metadata": {},
   "source": [
    "فصل 15\n",
    "صفحه\n",
    "253"
   ]
  },
  {
   "cell_type": "code",
   "execution_count": 17,
   "metadata": {},
   "outputs": [
    {
     "data": {
      "text/plain": [
       "0"
      ]
     },
     "execution_count": 17,
     "metadata": {},
     "output_type": "execute_result"
    }
   ],
   "source": [
    "#run2.py\n",
    "import os\n",
    "inf=r\"D:\\spi\\pydrought\\data\\Rain.csv\"\n",
    "cols=\"RAIN date\"\n",
    "outf=r\"D:\\spi\\pydrought\\data\\spiss2.csv\"\n",
    "scales=\"1 3 6 9 \"\n",
    "cmd=r\"D:\\spi\\pydrought\\spi.py\"\n",
    "py=\"python\"\n",
    "expression=\" \".join([py,cmd, inf, cols,outf ,scales])         \n",
    "os.system(expression)"
   ]
  },
  {
   "cell_type": "raw",
   "metadata": {},
   "source": [
    "فصل 15\n",
    "صفحه\n",
    "254"
   ]
  },
  {
   "cell_type": "code",
   "execution_count": 18,
   "metadata": {},
   "outputs": [],
   "source": [
    "import os\n",
    "inf=r\"D:\\spi\\pydrought\\data\\Rain.csv\"\n",
    "cols=\"RAIN date\"\n",
    "outf=r\"D:\\spi\\pydrought\\data\\spiss2.csv\"\n",
    "scales=\"1 3 6 9 \"\n",
    "cmd=r\"D:\\spi\\pydrought\\spi.py\"\n",
    "py=\"python\"\n",
    "expression=\" \".join([py,cmd, inf, cols,outf ,scales])         \n",
    "#os.system(expression)\n",
    "\n",
    "import subprocess \n",
    "try:\n",
    "    with open('output.txt', 'wb') as f:\n",
    "        subprocess.check_call(expression, stdout=f, stderr=f)\n",
    "except subprocess.CalledProcessError as error:\n",
    "    print (error)\n",
    "    with open('output.txt') as f:\n",
    "        for line in f:\n",
    "            print (line,)\n",
    "##        "
   ]
  },
  {
   "cell_type": "raw",
   "metadata": {},
   "source": [
    "فصل 15\n",
    "صفحه\n",
    "255"
   ]
  },
  {
   "cell_type": "raw",
   "metadata": {},
   "source": [
    "#setup.py\n",
    "#!/usr/bin/env python\n",
    "from setuptools import setup, find_packages\n",
    "setup(name='pydrought',\n",
    "      version='0.2',\n",
    "      description='Standardized Precipitation Index',\n",
    "      author='Ch B Komaki',\n",
    "      author_email='gmail@gmail.com',\n",
    "      url='http://gau.ac.ir/',\n",
    "      packages=['pydrought'],\n",
    "      package_data={'pydrought': [\"data/*.csv\"]},\n",
    "##      find_packages=find_packages()\n",
    "     )"
   ]
  },
  {
   "cell_type": "raw",
   "metadata": {},
   "source": [
    "فصل 15\n",
    "صفحه\n",
    "259"
   ]
  },
  {
   "cell_type": "raw",
   "metadata": {},
   "source": [
    "#make.py\n",
    "# -*- coding: utf-8 -*-\n",
    "from cx_Freeze import setup, Executable\n",
    "buildOptions = dict(excludes = ['tkinter' ,\"PyQt5 \",\"PIL\",\"scipy\", \"numpy\",\n",
    "                                \"sqlite3\", \"IPython\"],\n",
    "                    include_files  = ['data/Rain.csv'],\n",
    "                    zip_include_packages=[\".\"],\n",
    "                    include_msvcr= True)\n",
    "executables = [Executable('spi.py')]\n",
    "setup(name='spi',\n",
    "      version='0.2',\n",
    "      description='SPI Calculation',\n",
    "      executables=executables,\n",
    "      options=dict(build_exe=buildOptions))\n",
    "# Run the build process by running the command 'python setup.py build'\n"
   ]
  },
  {
   "cell_type": "code",
   "execution_count": null,
   "metadata": {},
   "outputs": [],
   "source": []
  }
 ],
 "metadata": {
  "kernelspec": {
   "display_name": "Python 3",
   "language": "python",
   "name": "python3"
  },
  "language_info": {
   "codemirror_mode": {
    "name": "ipython",
    "version": 3
   },
   "file_extension": ".py",
   "mimetype": "text/x-python",
   "name": "python",
   "nbconvert_exporter": "python",
   "pygments_lexer": "ipython3",
   "version": "3.7.6"
  }
 },
 "nbformat": 4,
 "nbformat_minor": 4
}
