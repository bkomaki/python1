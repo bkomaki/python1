{
 "cells": [
  {
   "cell_type": "raw",
   "metadata": {},
   "source": [
    "فصل 17\n",
    "صفحه 285"
   ]
  },
  {
   "cell_type": "code",
   "execution_count": 38,
   "metadata": {},
   "outputs": [],
   "source": [
    "from math import *\n",
    "def daylight(lat,J):\n",
    "    \n",
    "    \"\"\"lat  latitude [degree]\n",
    "        J  Julian day\n",
    "      return L (daylight hours in units of 12 hours), w ( sunset hour angle [radians], d (declination [radians] )\"\"\"\n",
    "    dec=0.4093*sin(2*pi/365*J-1.39) #d declination [radians]\n",
    "    t=tan(dec)*tan(radians(float(lat)))\n",
    "    w=acos(-t)#w   the sunset hour angle [radians]\n",
    "    L=24/pi*w #L daylight hours in units of 12 hours (Average day length of the month )\n",
    "    return L,w,dec"
   ]
  },
  {
   "cell_type": "code",
   "execution_count": 39,
   "metadata": {},
   "outputs": [
    {
     "data": {
      "text/plain": [
       "(13.446604497114622, 1.7601564126609488, 0.2721397327082406)"
      ]
     },
     "execution_count": 39,
     "metadata": {},
     "output_type": "execute_result"
    }
   ],
   "source": [
    "daylight(34,123)"
   ]
  },
  {
   "cell_type": "raw",
   "metadata": {},
   "source": [
    "فصل 17\n",
    "صفحه 286"
   ]
  },
  {
   "cell_type": "code",
   "execution_count": 42,
   "metadata": {},
   "outputs": [],
   "source": [
    "def etp(T,lat):\n",
    "    julian=[15,46,74,105,135,166,196,227,258,288,319,349] # mean average Julian day for each month\n",
    "    days=[31,28,31,30,31,30,31,31,30,31,30,31]# days in months\n",
    "    I= sum([(t/5)**1.514  if t>0 else 0 for t in T])#  S(Tm/5)**1.5;for month m:Thornthwaite's temperature efficiency index,heat index  for the year: I index for each month when temperature more than zero.\n",
    "    a=(6.75e-07)*I**3 -(7.71e-05)*I**2 + 0.01792*I + 0.49239 # Expentail factor\n",
    "    pet=[]\n",
    "    for n,  t in  zip(days,T):\n",
    "        if t<=0:\n",
    "            pet.append(0)\n",
    "        elif 0<t<=26.5:\n",
    "            et=16 *(10*t/I)**a\n",
    "            pet.append(et)\n",
    "##            print(et,t)\n",
    "        elif 26.5<t:\n",
    "            et=-415.85+32.24*t-0.43*t**2\n",
    "            pet.append(et)\n",
    "        else:\n",
    "            raise\n",
    "    correction=[n/30*(daylight(lat,j)[0])/12. for n, j in zip(days,julian)]\n",
    "    pet=[c*et for c,et in zip(correction ,pet)]\n",
    "    return pet"
   ]
  },
  {
   "cell_type": "raw",
   "metadata": {},
   "source": [
    "فصل 17\n",
    "صفحه 288"
   ]
  },
  {
   "cell_type": "code",
   "execution_count": 24,
   "metadata": {},
   "outputs": [],
   "source": [
    "def pascal():\n",
    "    row=[1]\n",
    "    while True:\n",
    "        yield row\n",
    "        row= [i+j for  i,j  in zip(row+[0],[0]+row)]\n",
    "def binom(N,s,exact=1):\n",
    "    if exact:\n",
    "        if (s > N) or (N < 0) or (s < 0):\n",
    "            return 0\n",
    "    can=pascal()\n",
    "    k=[next(can) for i in range(N+1)]\n",
    "    return k[N][s]"
   ]
  },
  {
   "cell_type": "code",
   "execution_count": 25,
   "metadata": {},
   "outputs": [
    {
     "data": {
      "text/plain": [
       "10"
      ]
     },
     "execution_count": 25,
     "metadata": {},
     "output_type": "execute_result"
    }
   ],
   "source": [
    "binom(5,2)\n"
   ]
  },
  {
   "cell_type": "raw",
   "metadata": {},
   "source": [
    "فصل 17\n",
    "صفحه 289"
   ]
  },
  {
   "cell_type": "code",
   "execution_count": 26,
   "metadata": {},
   "outputs": [],
   "source": [
    "def w(x,s):\n",
    "    \"\"\"X:data series\n",
    "         s: order, integer value {0, 1, .....}\n",
    "     return The unbiased PWMs (probability weighted moments)\"\"\"\n",
    "    x=list(x)\n",
    "    x.sort()\n",
    "    n=len(x)\n",
    "    s=int(s)\n",
    "    ws=sum([1/n* x[i-1]*binom(n-i,s)/binom(n-1,s) for i in range(1, n+1)])\n",
    "    return ws"
   ]
  },
  {
   "cell_type": "code",
   "execution_count": 27,
   "metadata": {},
   "outputs": [],
   "source": [
    "def LLfit(x):\n",
    "    \"\"\"x:data series\n",
    "        return: scale,shape , location \n",
    "        the parameters of the Log-logistic distribution after Singh et al. (1993) \"\"\"\n",
    "    w0,w1,w2=w(x,0),w(x,1),w(x,2)\n",
    "    beta=(2*w1-w0)/(6*w1-w0-6*w2)\n",
    "    gb=gamma(1+1/beta)*gamma(1-1/beta)\n",
    "    alpha=(w0-2*w1)*beta/gb\n",
    "    omga=w0-alpha*gb\n",
    "    return  alpha,beta,omga #"
   ]
  },
  {
   "cell_type": "code",
   "execution_count": 28,
   "metadata": {},
   "outputs": [],
   "source": [
    "def logLogisticCDF(x,alpha,beta,omga):\n",
    "    \"\"\" x : non-negative  data series\n",
    "      Cumulative distribution function of a three parameter Log-logistic distributin  (Fisk distribution)\n",
    "        scale=.1\n",
    "        shape=3\n",
    "        loc=5\n",
    "        x=7\n",
    "        logLogisticCDF(x,scale, shape,loc)\n",
    "        0.9998750156230471\"\"\"\n",
    "    return 1 / (1+pow(alpha/(x-omga),beta));"
   ]
  },
  {
   "cell_type": "raw",
   "metadata": {},
   "source": [
    "فصل 17\n",
    "صفحه 290"
   ]
  },
  {
   "cell_type": "code",
   "execution_count": 29,
   "metadata": {},
   "outputs": [
    {
     "data": {
      "text/plain": [
       "0.9998750156230471"
      ]
     },
     "execution_count": 29,
     "metadata": {},
     "output_type": "execute_result"
    }
   ],
   "source": [
    "scale=.1\n",
    "shape=3\n",
    "loc=5\n",
    "x=7\n",
    "logLogisticCDF(x,scale, shape,loc)"
   ]
  },
  {
   "cell_type": "code",
   "execution_count": 58,
   "metadata": {},
   "outputs": [],
   "source": [
    "from collections import Counter\n",
    "def SPEI_function(x,fit=None):\n",
    "    if fit==LLfit:\n",
    "        cdf=logLogisticCDF  \n",
    "    zeros=Counter(x)[0]\n",
    "    pzero=zeros/len(x)\n",
    "    x2=x[:]\n",
    "    while 0 in x2 :\n",
    "        x2.remove(0)\n",
    "    alpha,beta,omga=fit(x2)\n",
    "    print(str(fit.__name__)+\" Fit: \",alpha,beta,omga)\n",
    "    spei=[cdf2Z(pzero + (1.-pzero) *cdf(i,alpha,beta,omga)) for i in x]\n",
    "    return spei"
   ]
  },
  {
   "cell_type": "code",
   "execution_count": 59,
   "metadata": {},
   "outputs": [],
   "source": [
    "########################################################\n",
    "####################################################\n",
    "from collections import defaultdict\n",
    "from itertools import groupby\n",
    "def group(indata,indate,func=None, fit=None):\n",
    "    zdata=list(zip(indata,indate))\n",
    "    grp=groupby(zdata, lambda x: x[1].month)\n",
    "    P=defaultdict(list)\n",
    "    gdates= defaultdict(list)\n",
    "    for i, g in grp:\n",
    "            for v , d in g:\n",
    "                    gdates[i].append(d)\n",
    "                    P[i].append(v)\n",
    "    res=defaultdict(list)\n",
    "    for key  in P:\n",
    "            spiout=func(P[key],fit=fit)\n",
    "            kdates=gdates[key]\n",
    "            for d in kdates:\n",
    "                    res[\"date\"].append(d)\n",
    "            for v in spiout:\n",
    "                res[\"spi\"].append(v)\n",
    "    zdata=list(zip(res[\"spi\"],res[\"date\"]))\n",
    "    zdata.sort(key=lambda x :x[1])\n",
    "    res.clear()\n",
    "    for  k in zdata:\n",
    "            res[\"spi\"].append(k[0])\n",
    "            res[\"date\"].append(k[1])\n",
    "    sp,dat=res[\"spi\"],res[\"date\"]\n",
    "    return sp,dat"
   ]
  },
  {
   "cell_type": "code",
   "execution_count": 64,
   "metadata": {},
   "outputs": [],
   "source": [
    "class SPEI (object):\n",
    "    def __init__(self, date,rain,Tmean,latDeg=None, scales=None):\n",
    "        self.rain, self.Tmean, self.date=rain,Tmean,date\n",
    "        self.scales=scales\n",
    "        self.Ds,self.dates,self.ETP=self.initial(latDeg)\n",
    "    def initial(self,latDeg):\n",
    "        values=zip(self.Tmean, self.date,self.rain)\n",
    "        grp=groupby(values, key=lambda x : x[1].year)\n",
    "        data=defaultdict(list)\n",
    "        for k, g in  grp:\n",
    "            g=list(g)\n",
    "            t=[i[0] for i in g]\n",
    "            date=[i[1] for i in g]\n",
    "            etp1=etp(t, latDeg)\n",
    "            #print(etp1)\n",
    "            D=[g[i][2]-etp1[i] for i in range(len(g))]\n",
    "            for i in range(len(etp1)):\n",
    "                data[\"etp\"].append(etp1[i])\n",
    "                data[\"D\"].append(D[i])\n",
    "                data[\"date\"].append(g[i][1])\n",
    "        return  data[\"D\"],data[\"date\"],data[\"etp\"]\n",
    "    def calculate(self, fit=None):\n",
    "        speiData=defaultdict(list)\n",
    "        speiData[\"date\"]=self.dates\n",
    "        for scale in self.scales:\n",
    "            print(\"scale\\t\",scale)\n",
    "            data=summov(self.Ds,scale)\n",
    "            #print(data)\n",
    "            dates2=self.dates[scale-1:]\n",
    "            spei,groupdate=group(data,dates2,func=SPEI_function, fit=fit)\n",
    "            lags= [float(\"nan\") for i in range(scale-1)]\n",
    "            for i in lags+spei:\n",
    "                speiData[scale].append(i)\n",
    "        return speiData"
   ]
  },
  {
   "cell_type": "code",
   "execution_count": 48,
   "metadata": {},
   "outputs": [
    {
     "name": "stdout",
     "output_type": "stream",
     "text": [
      "\n",
      "Usage: spei  <infile> <RAIN col> <Tmean col> <date col><latitude> <outfile> <scales>\n",
      "\n",
      "Example: spei.py  data/wichita.csv  PRCP TMED date 37.6475 data/outspei.csv 1 3 6 9 12 24\n"
     ]
    }
   ],
   "source": [
    "def main():\n",
    "    import sys\n",
    "    if  len(sys.argv) >=7:\n",
    "        script = sys.argv[0]\n",
    "        infile = sys.argv[1]\n",
    "        rainCol ,Tcol,dateCol= sys.argv[2], sys.argv[3],sys.argv[4]\n",
    "        lat, outfile ,scales= sys.argv[5], sys.argv[6],sys.argv[7:]\n",
    "        scales=map(int,scales)\n",
    "        data=readcsv(infile)\n",
    "        rain, tmean, date=data[rainCol],data[Tcol],data[dateCol]\n",
    "        myspei=SPEI(date,rain, tmean, latDeg=lat ,scales=scales)\n",
    "        myspeic=myspei.calculate(fit=util.LLfit)\n",
    "        print(myspeic.keys())\n",
    "        util.write(myspeic,outfile)\n",
    "        print ('spei is calcualted and saved in {}'.format(outfile))\n",
    "    else:\n",
    "        print (\"\\nUsage: spei  <infile> <RAIN col> <Tmean col> <date col>\\\n",
    "<latitude> <outfile> <scales>\\n\")\n",
    "        print (\"Example: spei.py  data/wichita.csv  PRCP TMED date 37.6475 data/outspei.csv 1 3 6 9 12 24\")\n",
    "        #sys.exit(2)\n",
    "if __name__ == '__main__':\n",
    "    main()"
   ]
  },
  {
   "cell_type": "code",
   "execution_count": 54,
   "metadata": {},
   "outputs": [],
   "source": [
    "##################################فصل 15 شکل  #################################\n",
    "from collections import defaultdict\n",
    "import io,csv\n",
    "def readcsv(infile):\n",
    "    \"\"\"input file name, csv format\"\"\"\n",
    "    with io.open(infile, newline='') as csvfile:\n",
    "            data = defaultdict(list)\n",
    "            reader = csv.DictReader(csvfile)\n",
    "            for row in reader:\n",
    "                for key in  row:\n",
    "                    try:\n",
    "                        data[key].append(dateparser(row[key]))\n",
    "                    except:\n",
    "                        if row[key]==\"NA\":\n",
    "                            row[key]=float(\"nan\")\n",
    "                        data[key].append(float(row[key]))  \n",
    "    return data\n",
    "##################################فصل 15 شکل  ##############################\n",
    "from datetime import datetime\n",
    "dateparser=lambda x:datetime.strptime(x,\n",
    "                                      \"%Y-%m-%d\") if \"-\" in x else datetime.strptime(x,\n",
    "                                                                                     \"%m/%d/%Y\")\n",
    "#############################################\n",
    "\n",
    "def cdf2Z(p):\n",
    "    c=p\n",
    "    \"\"\" P probably betwen 0 and 1 \"\"\"\n",
    "    if p<=0 or p>1 :\n",
    "        print(\"p={} is out of range\".format(c))\n",
    "        return float(\"inf\")\n",
    "    if (c-0.5)>0:\n",
    "        c=1. - c\n",
    "    if (c-0.5)<0:\n",
    "        #print(c)\n",
    "        dt2= -2*log(c)\n",
    "        t=sqrt(dt2)\n",
    "        ppf= t- ((.010328*t + .802853)*t+ 2.515517) /\\\n",
    "             (((.001308*t + .189269)*t + 1.432788)*t + 1.)\n",
    "        if p<0.5:\n",
    "            ppf=-ppf\n",
    "        return ppf\n",
    "    if c-0.5==0:\n",
    "        return 0\n",
    "###########################################\n",
    "summov=lambda x,win:[sum(x[i:win+i])for i in range(len(x[win-1:]))]\n",
    "###################################################\n",
    "def write (data, outfile, fields=None):\n",
    "    with io.open(outfile, 'w', newline='') as csvfile:\n",
    "        if fields==None:\n",
    "            fields=list(data.keys())\n",
    "            print(fields)\n",
    "        csvWriter = csv.DictWriter(csvfile, fieldnames=fields)\n",
    "        csvWriter.writeheader()\n",
    "    with io.open(outfile, 'a', newline='') as csvfile:\n",
    "        writer = csv.writer(csvfile, delimiter=',', quotechar='\"',\n",
    "                            quoting=csv.QUOTE_MINIMAL)\n",
    "        for  row in list(zip(*data.values())):\n",
    "            row=list(row)\n",
    "            row[0]=row[0].strftime(\"%Y-%m-%d\")\n",
    "            #print(row)\n",
    "            writer.writerow(row)\n",
    "##            if not row:\n",
    "##                print(\"empty\")\n",
    "    print(\"The result is saved as {}\".format(outfile))"
   ]
  },
  {
   "cell_type": "code",
   "execution_count": 66,
   "metadata": {},
   "outputs": [
    {
     "name": "stdout",
     "output_type": "stream",
     "text": [
      "scale\t 1\n",
      "LLfit Fit:  50.212080853093326 5.076236857376864 -33.13226354887902\n",
      "LLfit Fit:  81.76115906069602 5.786497883994734 -60.544976876441964\n",
      "LLfit Fit:  139.0876380844144 6.059680220484953 -98.71223667631159\n",
      "LLfit Fit:  110.87546162220731 4.302732043104933 -107.90538676817411\n",
      "LLfit Fit:  155.50493774406414 4.396371756029603 -152.08315860646871\n",
      "LLfit Fit:  -1555.4270964816849 -36.39931962722487 1540.7852164299945\n",
      "LLfit Fit:  -3236.294173469918 -96.67229513797973 3138.8929939031514\n",
      "LLfit Fit:  271.96163082882435 7.0603797017956085 -347.9790983336559\n",
      "LLfit Fit:  80.66218774875256 2.646034250664565 -127.96216240117508\n",
      "LLfit Fit:  119.33430394318745 4.170630287421652 -114.16352901023629\n",
      "LLfit Fit:  67.53317457838122 4.179782717737889 -54.61636431460734\n",
      "LLfit Fit:  40.513951714675265 3.2304967491940793 -18.27988294609041\n",
      "scale\t 3\n",
      "LLfit Fit:  381.2356392325267 10.685834755374279 -294.1664857337744\n",
      "LLfit Fit:  398.44725153354136 9.64875244566981 -319.9222519942308\n",
      "LLfit Fit:  574.0810643441426 11.30354236877709 -503.77190812673075\n",
      "LLfit Fit:  879.3306030083298 12.092561624141513 -874.9153442544566\n",
      "LLfit Fit:  -7106.535802361154 -83.62611909922698 7011.15145724517\n",
      "LLfit Fit:  -4609.786340548159 -59.96865394549285 4430.518514593896\n",
      "LLfit Fit:  2644.8096153715137 34.818823366444455 -2837.8951483272454\n",
      "LLfit Fit:  928.3123119549721 13.827315729358265 -1010.6195790762514\n",
      "LLfit Fit:  339.6843642502062 6.141919171805675 -339.79894947864\n",
      "LLfit Fit:  600.3502566048284 14.14179317020991 -537.3630378296012\n",
      "LLfit Fit:  433.19144012556154 16.47099559611271 -367.10602392405445\n",
      "LLfit Fit:  151.58869838895117 6.018753642058131 -84.16890456714681\n",
      "scale\t 6\n",
      "LLfit Fit:  4227.311991929957 52.14905760291422 -4122.867787942105\n",
      "LLfit Fit:  2407.0663079342635 26.290535740064858 -2424.207378750585\n",
      "LLfit Fit:  -2730.039119405774 -28.448862102023885 2631.985768844169\n",
      "LLfit Fit:  3309.4076971866316 27.237867710977696 -3491.8650344111334\n",
      "LLfit Fit:  -1564.1888821873708 -13.651217111339214 1406.7531345573448\n",
      "LLfit Fit:  -830.9777826619578 -8.603870245013628 688.3700167805835\n",
      "LLfit Fit:  -849.6118117585586 -10.166932704015636 746.6244754436505\n",
      "LLfit Fit:  -1181.990919242509 -16.967228131164156 1187.0891786032364\n",
      "LLfit Fit:  1948.7872271224269 28.443002350062486 -1863.064442643076\n",
      "LLfit Fit:  -1875.6858178109155 -31.013195210955963 2037.3180187355251\n",
      "LLfit Fit:  -5717.116188280515 -100.44241119748189 5871.971977210734\n",
      "LLfit Fit:  1150.2951614347307 18.987245742163644 -1002.8832397846691\n",
      "scale\t 9\n",
      "LLfit Fit:  1885.5171830771299 15.931224132837306 -1980.2845030239735\n",
      "LLfit Fit:  -3731.2690027407552 -31.33306961821921 3651.852787192087\n",
      "LLfit Fit:  -2711.203313790959 -23.968971816089727 2639.285321776195\n",
      "LLfit Fit:  -3502.710895969774 -29.382880532952765 3410.907793947408\n",
      "LLfit Fit:  -1602.9013078880212 -14.27372872895093 1522.590282924841\n",
      "LLfit Fit:  -978.5821400932381 -9.488994958905186 909.8551988040408\n",
      "LLfit Fit:  -723.7144423533323 -7.938251417599332 716.7638215528301\n",
      "LLfit Fit:  -2703.1827879245357 -28.55042215995655 2792.163363871622\n",
      "LLfit Fit:  1342.3358568285607 14.010834062484376 -1185.8107105640947\n",
      "LLfit Fit:  30071.102538480543 283.7282340311045 -29893.324644649158\n",
      "LLfit Fit:  2499.3661723879964 24.276840447750885 -2441.25807512783\n",
      "LLfit Fit:  -6808.517316047015 -69.0723069520363 6790.193794856252\n",
      "scale\t 12\n",
      "LLfit Fit:  -5795.164946623264 -50.189103957803546 5794.647079905621\n",
      "LLfit Fit:  -3835.105418487951 -33.1992855603943 3835.3148787767586\n",
      "LLfit Fit:  -2427.2499089571893 -20.172293790800193 2431.921809529815\n",
      "LLfit Fit:  -2571.32975204819 -19.33323779075035 2574.6619203547566\n",
      "LLfit Fit:  -2009.2291540912815 -14.530933487410902 2016.8421277900668\n",
      "LLfit Fit:  -1260.4132721594867 -9.969289542869644 1272.8315180828479\n",
      "LLfit Fit:  -2033.4972359109697 -16.2771947214837 2039.9561419594784\n",
      "LLfit Fit:  -5633.425165630884 -43.651351950082166 5632.983184009799\n",
      "LLfit Fit:  -14138.487499532293 -113.49637734546391 14134.78402358448\n",
      "LLfit Fit:  3344.523721572882 24.0689900551347 -3358.457100256497\n",
      "LLfit Fit:  -3729.8993548477665 -29.919640590581654 3731.8541365706983\n",
      "LLfit Fit:  -4102.5854471271605 -37.11254422639817 4116.789765803289\n",
      "dict_keys(['date', 1, 3, 6, 9, 12])\n",
      "['date', 1, 3, 6, 9, 12]\n",
      "The result is saved as D:/test_spei.csv\n"
     ]
    }
   ],
   "source": [
    "rainCol ,Tcol,dateCol= \"PRCP\", \"TMED\",\"date\"\n",
    "\n",
    "lat, outfile ,scales= 37, \"D:/test_spei.csv\",[1,3,6,9,12]\n",
    "scales=map(int,scales)\n",
    "infile=\"D:/spi/pydrought/data/wichita.csv\"\n",
    "data=readcsv(infile)\n",
    "rain, tmean, date=data[rainCol],data[Tcol],data[dateCol]\n",
    "myspei=SPEI(date,rain, tmean, latDeg=lat ,scales=scales)\n",
    "myspeic=myspei.calculate(fit=LLfit)\n",
    "print(myspeic.keys())\n",
    "write(myspeic,outfile)"
   ]
  }
 ],
 "metadata": {
  "kernelspec": {
   "display_name": "Python 3",
   "language": "python",
   "name": "python3"
  },
  "language_info": {
   "codemirror_mode": {
    "name": "ipython",
    "version": 3
   },
   "file_extension": ".py",
   "mimetype": "text/x-python",
   "name": "python",
   "nbconvert_exporter": "python",
   "pygments_lexer": "ipython3",
   "version": "3.7.6"
  }
 },
 "nbformat": 4,
 "nbformat_minor": 4
}
