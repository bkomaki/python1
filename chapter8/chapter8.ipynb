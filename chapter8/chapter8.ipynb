{
 "cells": [
  {
   "cell_type": "raw",
   "metadata": {},
   "source": [
    "فصل 8\n",
    "صفحه\n",
    "94"
   ]
  },
  {
   "cell_type": "code",
   "execution_count": 1,
   "metadata": {},
   "outputs": [
    {
     "name": "stdout",
     "output_type": "stream",
     "text": [
      "6 is lower than 10\n"
     ]
    }
   ],
   "source": [
    "if 6<10:\n",
    "    print(\"6 is lower than 10\")\n"
   ]
  },
  {
   "cell_type": "code",
   "execution_count": 2,
   "metadata": {},
   "outputs": [],
   "source": [
    "no=6\n",
    "if no <5:\n",
    "    print (no,\"is lower than 5\")\n"
   ]
  },
  {
   "cell_type": "raw",
   "metadata": {},
   "source": [
    "فصل 8\n",
    "صفحه\n",
    "95"
   ]
  },
  {
   "cell_type": "code",
   "execution_count": 3,
   "metadata": {},
   "outputs": [
    {
     "name": "stdout",
     "output_type": "stream",
     "text": [
      "Value of a is less than 10\n"
     ]
    }
   ],
   "source": [
    "a=9\n",
    "if a<10:\n",
    "    print (\"Value of a is less than 10\")\n",
    "else:\n",
    "    print (\"Value of a is greater than 10\")\n"
   ]
  },
  {
   "cell_type": "code",
   "execution_count": 4,
   "metadata": {},
   "outputs": [
    {
     "name": "stdout",
     "output_type": "stream",
     "text": [
      "6\n"
     ]
    }
   ],
   "source": [
    "a=3\n",
    "b=6\n",
    "\n",
    "if a>b:\n",
    "    print (a)\n",
    "else:\n",
    "    print (b)\n",
    "    "
   ]
  },
  {
   "cell_type": "raw",
   "metadata": {},
   "source": [
    "فصل 8\n",
    "صفحه\n",
    "96"
   ]
  },
  {
   "cell_type": "code",
   "execution_count": 5,
   "metadata": {},
   "outputs": [
    {
     "name": "stdout",
     "output_type": "stream",
     "text": [
      "No\n"
     ]
    }
   ],
   "source": [
    "a=5\n",
    "if a==6:\n",
    "    print(\"Yes\")\n",
    "else:\n",
    "    print (\"No\")\n"
   ]
  },
  {
   "cell_type": "code",
   "execution_count": 6,
   "metadata": {
    "scrolled": true
   },
   "outputs": [
    {
     "name": "stdout",
     "output_type": "stream",
     "text": [
      "Good afternoon, world!\n"
     ]
    }
   ],
   "source": [
    "from datetime import datetime\n",
    "hour = datetime.now().hour\n",
    "if hour < 12:\n",
    "    time_of_day = 'morning'\n",
    "else:\n",
    "     time_of_day = 'afternoon'\n",
    "print ('Good %s, world!' % time_of_day)\n"
   ]
  },
  {
   "cell_type": "raw",
   "metadata": {},
   "source": [
    "فصل 8\n",
    "صفحه\n",
    "97"
   ]
  },
  {
   "cell_type": "code",
   "execution_count": 7,
   "metadata": {},
   "outputs": [
    {
     "name": "stdout",
     "output_type": "stream",
     "text": [
      "a is less than ten.\n"
     ]
    }
   ],
   "source": [
    "a=9\n",
    ">>> if a<10:\n",
    "\tprint (\"a is less than ten.\")\n",
    "elif a< 9:\n",
    "\tprint (\"a is less than nine \")\n",
    "elif a<2:\n",
    "\tprint (\"a is less than two\")\n",
    "else:\n",
    "\tprint (\"a is more than 10 or more\")\n"
   ]
  },
  {
   "cell_type": "code",
   "execution_count": 8,
   "metadata": {},
   "outputs": [
    {
     "name": "stdout",
     "output_type": "stream",
     "text": [
      " a is between 2 and 8\n"
     ]
    }
   ],
   "source": [
    "a=7\n",
    "if a<2:\n",
    "\tprint (\"a is lower than 2\")\n",
    "elif  2<a<8:\n",
    "\tprint (\" a is between 2 and 8\")\n",
    "elif a==9:\n",
    "\tprint  (\"a equals 9\")\n",
    "elif a>9:\n",
    "\tprint (\"a is greater than 9\")\n"
   ]
  },
  {
   "cell_type": "code",
   "execution_count": 9,
   "metadata": {},
   "outputs": [
    {
     "name": "stdout",
     "output_type": "stream",
     "text": [
      "three\n"
     ]
    }
   ],
   "source": [
    "if 3>2 and 2!=2:\n",
    "\tprint (\"two\")\n",
    "elif 3!=3 or 3==3:\n",
    "\tprint (\"three\")\n"
   ]
  },
  {
   "cell_type": "code",
   "execution_count": 10,
   "metadata": {
    "scrolled": true
   },
   "outputs": [
    {
     "name": "stdout",
     "output_type": "stream",
     "text": [
      "Please enter your age: 20\n",
      "You are eligible to see the Football match.\n",
      "Ticket price is $15\n"
     ]
    }
   ],
   "source": [
    "#NestedIF.py\n",
    "age = int(input(\"Please enter your age: \"))\n",
    "if (age >= 12):\n",
    "    print (\"You are eligible to see the Football match.\")\n",
    "    if (age <= 20 or age >= 60):\n",
    "        print(\"Ticket price is $15\")\n",
    "    else:\n",
    "      print(\"Ticket price is $20\")\n",
    "else:\n",
    "    print (\"You're not eligible to buy a ticket.\")\n"
   ]
  },
  {
   "cell_type": "raw",
   "metadata": {},
   "source": [
    "فصل 8\n",
    "صفحه\n",
    "100"
   ]
  },
  {
   "cell_type": "code",
   "execution_count": 12,
   "metadata": {},
   "outputs": [
    {
     "name": "stdout",
     "output_type": "stream",
     "text": [
      "Red\n",
      "Blue\n",
      "Green\n",
      "Black\n"
     ]
    }
   ],
   "source": [
    "colors=[\"Red\",\"Blue\",\"Green\", \"Black\"]\n",
    ">>> for c in colors:\n",
    "\tprint (c)\n"
   ]
  },
  {
   "cell_type": "code",
   "execution_count": 13,
   "metadata": {},
   "outputs": [
    {
     "name": "stdout",
     "output_type": "stream",
     "text": [
      "1 is odd\n",
      "3 is odd\n",
      "5 is odd\n",
      "7 is odd\n",
      "9 is odd\n"
     ]
    }
   ],
   "source": [
    "odd=0\n",
    "even=0\n",
    "for a in range(1,10):\n",
    "\tif a%2:\n",
    "\t\todd+=1\n",
    "\t\tprint(a, \"is odd\")\n",
    "\telse: \n",
    "\t\teven+=1\n"
   ]
  },
  {
   "cell_type": "raw",
   "metadata": {},
   "source": [
    "فصل 8\n",
    "صفحه\n",
    "101"
   ]
  },
  {
   "cell_type": "code",
   "execution_count": 14,
   "metadata": {},
   "outputs": [
    {
     "name": "stdout",
     "output_type": "stream",
     "text": [
      "Number of even numbers : 4\n"
     ]
    }
   ],
   "source": [
    "print(\"Number of even numbers :\",even)"
   ]
  },
  {
   "cell_type": "code",
   "execution_count": 15,
   "metadata": {},
   "outputs": [
    {
     "name": "stdout",
     "output_type": "stream",
     "text": [
      "Number of odd numbers : 5\n"
     ]
    }
   ],
   "source": [
    "print(\"Number of odd numbers :\",odd)"
   ]
  },
  {
   "cell_type": "code",
   "execution_count": 16,
   "metadata": {},
   "outputs": [
    {
     "name": "stdout",
     "output_type": "stream",
     "text": [
      "0 Mary\n",
      "1 had\n",
      "2 a\n",
      "3 little\n",
      "4 lamb\n"
     ]
    }
   ],
   "source": [
    "a = [\"Mary\", \"had\", \"a\", \"little\", \"lamb\"]\n",
    "for i in range(len(a)):\n",
    "    print (i, a[i])\n"
   ]
  },
  {
   "cell_type": "code",
   "execution_count": 17,
   "metadata": {},
   "outputs": [
    {
     "data": {
      "text/plain": [
       "[(0, 'Mary'), (1, 'had'), (2, 'a'), (3, 'little'), (4, 'lamb')]"
      ]
     },
     "execution_count": 17,
     "metadata": {},
     "output_type": "execute_result"
    }
   ],
   "source": [
    ">>> list(enumerate(a))"
   ]
  },
  {
   "cell_type": "code",
   "execution_count": 18,
   "metadata": {},
   "outputs": [
    {
     "name": "stdout",
     "output_type": "stream",
     "text": [
      "2 is a prime number\n",
      "3 is a prime number\n",
      "4 equals 2 * 2.0\n",
      "4 is a prime number\n",
      "5 is a prime number\n",
      "6 equals 2 * 3.0\n",
      "6 is a prime number\n",
      "7 is a prime number\n",
      "8 equals 2 * 4.0\n",
      "8 is a prime number\n",
      "9 equals 3 * 3.0\n",
      "9 is a prime number\n"
     ]
    }
   ],
   "source": [
    "#FOR_IN_break.py\n",
    "for n in range(2, 10):\n",
    "    for x in range(2, n):\n",
    "        if n % x == 0:\n",
    "            print (n, 'equals', x, '*', n/x)\n",
    "            break\n",
    "        else:\n",
    "            pass\n",
    "    print (n, 'is a prime number')"
   ]
  },
  {
   "cell_type": "raw",
   "metadata": {},
   "source": [
    "فصل 8\n",
    "صفحه\n",
    "102"
   ]
  },
  {
   "cell_type": "code",
   "execution_count": 19,
   "metadata": {},
   "outputs": [
    {
     "name": "stdout",
     "output_type": "stream",
     "text": [
      "At least one is even\n"
     ]
    }
   ],
   "source": [
    "nums=[11,13,14,5,7,9,6]\n",
    ">>> if any([i%2==0 for i in nums]):\n",
    "\tprint (\"At least one is even\")\n"
   ]
  },
  {
   "cell_type": "code",
   "execution_count": 20,
   "metadata": {},
   "outputs": [
    {
     "name": "stdout",
     "output_type": "stream",
     "text": [
      "All values are more than 4\n"
     ]
    }
   ],
   "source": [
    "if all([i>4 for i in nums]):\n",
    "\tprint (\"All values are more than 4\")\n"
   ]
  },
  {
   "cell_type": "code",
   "execution_count": null,
   "metadata": {},
   "outputs": [],
   "source": []
  },
  {
   "cell_type": "raw",
   "metadata": {},
   "source": [
    "فصل 8\n",
    "صفحه\n",
    "103"
   ]
  },
  {
   "cell_type": "code",
   "execution_count": 21,
   "metadata": {},
   "outputs": [
    {
     "name": "stdout",
     "output_type": "stream",
     "text": [
      "0\n",
      "1\n",
      "2\n",
      "3\n",
      "4\n"
     ]
    }
   ],
   "source": [
    "x=0\n",
    "while (x < 5):\n",
    "     print(x)\n",
    "     x += 1\n"
   ]
  },
  {
   "cell_type": "code",
   "execution_count": 22,
   "metadata": {},
   "outputs": [
    {
     "name": "stdout",
     "output_type": "stream",
     "text": [
      " x is  10 ,nochange \n"
     ]
    }
   ],
   "source": [
    "x = 10;\n",
    "while (x < 5):\n",
    "    print(x)\n",
    "    x += 1\n",
    "else:\n",
    "    print (\" x is \",x, \",nochange \")\n"
   ]
  },
  {
   "cell_type": "raw",
   "metadata": {},
   "source": [
    "فصل 8\n",
    "صفحه\n",
    "104"
   ]
  },
  {
   "cell_type": "code",
   "execution_count": 1,
   "metadata": {},
   "outputs": [
    {
     "name": "stdout",
     "output_type": "stream",
     "text": [
      "The sum of first 9 integers :  45\n"
     ]
    }
   ],
   "source": [
    "x=0\n",
    "s=0\n",
    "while (x < 10):  \n",
    "    s = s + x  \n",
    "    x = x + 1  \n",
    "else :  \n",
    "    print('The sum of first 9 integers : ',s)\n"
   ]
  },
  {
   "cell_type": "code",
   "execution_count": 1,
   "metadata": {
    "scrolled": true
   },
   "outputs": [
    {
     "name": "stdout",
     "output_type": "stream",
     "text": [
      "x 2\n",
      "The sum of first 9 integers :  1\n",
      "x 3\n",
      "The sum of first 9 integers :  3\n",
      "x 4\n",
      "The sum of first 9 integers :  6\n",
      "x 5\n"
     ]
    }
   ],
   "source": [
    "x = 1\n",
    "s = 0  \n",
    "while (x < 10):\n",
    "    s = s + x\n",
    "    x = x + 1\n",
    "    print(\"x\",x)\n",
    "    if (x == 5):\n",
    "        break\n",
    "    else :print('The sum of first 9 integers : ',s)\n",
    "\n"
   ]
  },
  {
   "cell_type": "raw",
   "metadata": {},
   "source": [
    "فصل 8\n",
    "صفحه\n",
    "105"
   ]
  },
  {
   "cell_type": "raw",
   "metadata": {},
   "source": [
    "i=0\n",
    "while True:\n",
    "    i+1\n",
    "    if i==2:\n",
    "        print(\"skiping\")\n",
    "        continue\n",
    "    elif i==5:\n",
    "        print(\"breaking\")\n",
    "        break\n",
    "    print(i)\n",
    "    \n",
    "    "
   ]
  },
  {
   "cell_type": "raw",
   "metadata": {},
   "source": [
    "while True:\n",
    "      pass\n"
   ]
  },
  {
   "cell_type": "code",
   "execution_count": 1,
   "metadata": {},
   "outputs": [
    {
     "name": "stdout",
     "output_type": "stream",
     "text": [
      "Yes\n"
     ]
    }
   ],
   "source": [
    "x=3\n",
    "y=6\n",
    "if not 2+2==x or y==6 and 8==9:\n",
    "    print ( \"Yes\")\n",
    "else:\n",
    "    print (\"No\")\n"
   ]
  },
  {
   "cell_type": "raw",
   "metadata": {},
   "source": [
    "فصل 8\n",
    "صفحه\n",
    "106"
   ]
  },
  {
   "cell_type": "code",
   "execution_count": 6,
   "metadata": {},
   "outputs": [
    {
     "name": "stdout",
     "output_type": "stream",
     "text": [
      "0 Unbroken\n",
      "1 Unbroken\n",
      "2 Unbroken\n",
      "3 Broken\n"
     ]
    }
   ],
   "source": [
    "for i in range(5):\n",
    "    if i==3:\n",
    "        print(i,\"Broken\")\n",
    "        break\n",
    "    else:\n",
    "        print(i,\"Unbroken\")\n"
   ]
  },
  {
   "cell_type": "raw",
   "metadata": {},
   "source": [
    "فصل 8\n",
    "صفحه\n",
    "107"
   ]
  },
  {
   "cell_type": "code",
   "execution_count": 7,
   "metadata": {},
   "outputs": [
    {
     "name": "stdout",
     "output_type": "stream",
     "text": [
      "Please enter a number betwwen 0-360: 389\n",
      "Please enter a number betwwen 0-360: -1\n",
      "Please enter a number betwwen 0-360: 0\n",
      "Surface is flat\n"
     ]
    }
   ],
   "source": [
    "#NestedIF2.py\n",
    "c= int(input(\"Please enter a number betwwen 0-360: \"))\n",
    "while c<0 or c>360:\n",
    "    c= int(input(\"Please enter a number betwwen 0-360: \"))\n",
    "else:\n",
    "    if c==0:\n",
    "        print(\"Surface is flat\")\n",
    "    elif c < 45.:\n",
    "        print(\"Aspet is north.\")\n",
    "    elif c < 135:\n",
    "         print(\"Aspet is east.\")\n",
    "    elif c < 225:\n",
    "         print(\"Aspet is south.\")\n",
    "    elif c<315:\n",
    "        print (\"Aspect is west\")\n",
    "    elif  c<=360:\n",
    "         print(\"Aspet is north.\")\n",
    "         "
   ]
  },
  {
   "cell_type": "code",
   "execution_count": 8,
   "metadata": {},
   "outputs": [],
   "source": [
    "colors = ['red', 'yellow', 'blue']\n",
    ">>> color_lines = []\n",
    ">>> for color in colors:\n",
    "     color_lines.append('{0}\\n'.format(color))\n"
   ]
  },
  {
   "cell_type": "raw",
   "metadata": {},
   "source": [
    "فصل 8\n",
    "صفحه\n",
    "108"
   ]
  },
  {
   "cell_type": "code",
   "execution_count": 9,
   "metadata": {},
   "outputs": [
    {
     "data": {
      "text/plain": [
       "['red\\n', 'yellow\\n', 'blue\\n']"
      ]
     },
     "execution_count": 9,
     "metadata": {},
     "output_type": "execute_result"
    }
   ],
   "source": [
    "color_lines"
   ]
  },
  {
   "cell_type": "code",
   "execution_count": 10,
   "metadata": {},
   "outputs": [
    {
     "data": {
      "text/plain": [
       "['yellow\\n', 'blue\\n']"
      ]
     },
     "execution_count": 10,
     "metadata": {},
     "output_type": "execute_result"
    }
   ],
   "source": [
    "color_lines = ['{0}\\n'.format(color) for color in colors if 'l' in color]\n",
    "color_lines\n"
   ]
  },
  {
   "cell_type": "code",
   "execution_count": 11,
   "metadata": {},
   "outputs": [],
   "source": [
    "colors = ['red', 'yellow', 'blue']\n",
    "clothes = ['hat', 'shirt', 'pants']\n",
    "colored_clothes = ['{0} {1}'.format(color, garment) for color in colors for garment in clothes]\n"
   ]
  },
  {
   "cell_type": "code",
   "execution_count": 12,
   "metadata": {},
   "outputs": [
    {
     "data": {
      "text/plain": [
       "['red hat',\n",
       " 'red shirt',\n",
       " 'red pants',\n",
       " 'yellow hat',\n",
       " 'yellow shirt',\n",
       " 'yellow pants',\n",
       " 'blue hat',\n",
       " 'blue shirt',\n",
       " 'blue pants']"
      ]
     },
     "execution_count": 12,
     "metadata": {},
     "output_type": "execute_result"
    }
   ],
   "source": [
    "colored_clothes"
   ]
  },
  {
   "cell_type": "code",
   "execution_count": 14,
   "metadata": {},
   "outputs": [
    {
     "name": "stdout",
     "output_type": "stream",
     "text": [
      "0\n",
      "2\n",
      "4\n",
      "6\n",
      "8\n"
     ]
    }
   ],
   "source": [
    "for i in range(0,10,2):\n",
    "\tprint(i)\n"
   ]
  },
  {
   "cell_type": "code",
   "execution_count": 15,
   "metadata": {},
   "outputs": [
    {
     "name": "stdout",
     "output_type": "stream",
     "text": [
      "-1\n",
      "-2\n",
      "-3\n",
      "-4\n"
     ]
    }
   ],
   "source": [
    "for i in range(-1, -5, -1):\n",
    "\tprint(i)\n"
   ]
  },
  {
   "cell_type": "code",
   "execution_count": 17,
   "metadata": {},
   "outputs": [],
   "source": [
    "for i in range(70, 60):\n",
    "    print(i)\n"
   ]
  },
  {
   "cell_type": "raw",
   "metadata": {},
   "source": [
    "فصل 8\n",
    "صفحه\n",
    "109"
   ]
  },
  {
   "cell_type": "code",
   "execution_count": 18,
   "metadata": {},
   "outputs": [
    {
     "name": "stdout",
     "output_type": "stream",
     "text": [
      "10\n"
     ]
    }
   ],
   "source": [
    "for i in range(10, 60, 70):\n",
    "    print(i)\n"
   ]
  },
  {
   "cell_type": "code",
   "execution_count": 20,
   "metadata": {},
   "outputs": [
    {
     "name": "stdout",
     "output_type": "stream",
     "text": [
      "hello\n",
      "world\n",
      "spam\n",
      "egss\n"
     ]
    }
   ],
   "source": [
    "words=[\"hello\", \"world\",\"spam\",\"egss\"]\n",
    "for i in range(len(words)):\n",
    "    print(words[i])\n"
   ]
  },
  {
   "cell_type": "code",
   "execution_count": 21,
   "metadata": {},
   "outputs": [
    {
     "data": {
      "text/plain": [
       "['0', '1', '2', '3', '4', '5', '6', '7', '8', '9', '10', '11']"
      ]
     },
     "execution_count": 21,
     "metadata": {},
     "output_type": "execute_result"
    }
   ],
   "source": [
    "k1=[ str(i) for  i in range(12)]\n",
    "k1\n"
   ]
  },
  {
   "cell_type": "code",
   "execution_count": 22,
   "metadata": {},
   "outputs": [],
   "source": [
    "k2=[ (str(i),str(i+k) )for  i,k in zip(range(6),range(6))]\n",
    "k2"
   ]
  },
  {
   "cell_type": "code",
   "execution_count": 24,
   "metadata": {},
   "outputs": [
    {
     "name": "stdout",
     "output_type": "stream",
     "text": [
      "[0, 1, 4, 9, 16]\n"
     ]
    }
   ],
   "source": [
    "squares=[i **2 for i in range(5)]\n",
    "print(squares)\n"
   ]
  },
  {
   "cell_type": "raw",
   "metadata": {},
   "source": [
    "فصل 8\n",
    "صفحه\n",
    "110"
   ]
  },
  {
   "cell_type": "code",
   "execution_count": 28,
   "metadata": {},
   "outputs": [
    {
     "name": "stdout",
     "output_type": "stream",
     "text": [
      "[0, 4, 16]\n"
     ]
    }
   ],
   "source": [
    "evenSq=[i **2 for i in range(5) if i%2==0]\n",
    "print(evenSq)\n"
   ]
  },
  {
   "cell_type": "raw",
   "metadata": {},
   "source": [
    "even=[i*2 for i in range(10**100)]"
   ]
  },
  {
   "cell_type": "code",
   "execution_count": 1,
   "metadata": {},
   "outputs": [],
   "source": [
    "even=(i*2 for i in range(10**2))"
   ]
  },
  {
   "cell_type": "code",
   "execution_count": 2,
   "metadata": {},
   "outputs": [
    {
     "name": "stdout",
     "output_type": "stream",
     "text": [
      "<generator object <genexpr> at 0x0000026BD63D6948>\n"
     ]
    }
   ],
   "source": [
    "print(even)"
   ]
  },
  {
   "cell_type": "code",
   "execution_count": 5,
   "metadata": {},
   "outputs": [
    {
     "data": {
      "text/plain": [
       "[10, 11, 12, 13, 14, 15, 16, 17, 18, 19, 20]"
      ]
     },
     "execution_count": 5,
     "metadata": {},
     "output_type": "execute_result"
    }
   ],
   "source": [
    "from itertools import count\n",
    "counter = count(10)\n",
    "nums= list(next(counter) for  i in range(11))\n",
    "nums"
   ]
  },
  {
   "cell_type": "code",
   "execution_count": 6,
   "metadata": {},
   "outputs": [
    {
     "data": {
      "text/plain": [
       "[21, 22, 23, 24, 25, 26, 27, 28, 29, 30, 31]"
      ]
     },
     "execution_count": 6,
     "metadata": {},
     "output_type": "execute_result"
    }
   ],
   "source": [
    "nums2= list(next(counter) for i in range(11))\n",
    "nums2\n"
   ]
  },
  {
   "cell_type": "code",
   "execution_count": 7,
   "metadata": {},
   "outputs": [
    {
     "data": {
      "text/plain": [
       "[10, 10.5, 11.0, 11.5, 12.0, 12.5, 13.0, 13.5, 14.0, 14.5, 15.0]"
      ]
     },
     "execution_count": 7,
     "metadata": {},
     "output_type": "execute_result"
    }
   ],
   "source": [
    "cn5=count(10, .5)\n",
    "n5= list(next(cn5) for i in range(11))\n",
    "n5\n"
   ]
  },
  {
   "cell_type": "code",
   "execution_count": 8,
   "metadata": {},
   "outputs": [
    {
     "data": {
      "text/plain": [
       "['a', 'b', 'c', 'a', 'b', 'c', 'a', 'b', 'c', 'a']"
      ]
     },
     "execution_count": 8,
     "metadata": {},
     "output_type": "execute_result"
    }
   ],
   "source": [
    "from itertools import cycle\n",
    "c=cycle(\"abc\")\n",
    "[next(c) for i in range(10)]\n"
   ]
  },
  {
   "cell_type": "code",
   "execution_count": 9,
   "metadata": {},
   "outputs": [
    {
     "data": {
      "text/plain": [
       "repeat(2, 5)"
      ]
     },
     "execution_count": 9,
     "metadata": {},
     "output_type": "execute_result"
    }
   ],
   "source": [
    "from itertools import repeat\n",
    "repeat(2, 5)"
   ]
  },
  {
   "cell_type": "code",
   "execution_count": 10,
   "metadata": {},
   "outputs": [
    {
     "data": {
      "text/plain": [
       "[2, 2, 2, 2, 2]"
      ]
     },
     "execution_count": 10,
     "metadata": {},
     "output_type": "execute_result"
    }
   ],
   "source": [
    "list(repeat(2, 5))"
   ]
  },
  {
   "cell_type": "code",
   "execution_count": 13,
   "metadata": {},
   "outputs": [],
   "source": [
    "from itertools import chain\n",
    "L1 = ['a', 'b', 'c']\n",
    "L2 = ['d', 'e', 'f']\n",
    "\n"
   ]
  },
  {
   "cell_type": "raw",
   "metadata": {},
   "source": [
    "فصل 8\n",
    "صفحه\n",
    "112"
   ]
  },
  {
   "cell_type": "code",
   "execution_count": 18,
   "metadata": {},
   "outputs": [],
   "source": [
    "chained = chain(L1, L2)\n"
   ]
  },
  {
   "cell_type": "code",
   "execution_count": 19,
   "metadata": {},
   "outputs": [
    {
     "data": {
      "text/plain": [
       "<itertools.chain at 0x26bd6496dc8>"
      ]
     },
     "execution_count": 19,
     "metadata": {},
     "output_type": "execute_result"
    }
   ],
   "source": [
    "chained"
   ]
  },
  {
   "cell_type": "code",
   "execution_count": 20,
   "metadata": {},
   "outputs": [
    {
     "data": {
      "text/plain": [
       "['a', 'b', 'c', 'd', 'e', 'f']"
      ]
     },
     "execution_count": 20,
     "metadata": {},
     "output_type": "execute_result"
    }
   ],
   "source": [
    "list(chained)"
   ]
  },
  {
   "cell_type": "code",
   "execution_count": 22,
   "metadata": {},
   "outputs": [
    {
     "data": {
      "text/plain": [
       "['a', 'b', 'c', 'd', 'e', 'f']"
      ]
     },
     "execution_count": 22,
     "metadata": {},
     "output_type": "execute_result"
    }
   ],
   "source": [
    "L1 = ['a', 'b', 'c']\n",
    "L2 = ['d', 'e', 'f']\n",
    "L1.extend(l2)\n",
    "L1\n"
   ]
  },
  {
   "cell_type": "code",
   "execution_count": 23,
   "metadata": {},
   "outputs": [
    {
     "name": "stdout",
     "output_type": "stream",
     "text": [
      "[0, 1, 2, 3, 4, 5, 6]\n"
     ]
    }
   ],
   "source": [
    "from itertools import takewhile\n",
    "nums=range(10)\n",
    "print(list(takewhile(lambda x:x<=6,nums)))\n"
   ]
  },
  {
   "cell_type": "code",
   "execution_count": 24,
   "metadata": {},
   "outputs": [
    {
     "data": {
      "text/plain": [
       "[1, 3, 6, 10, 15]"
      ]
     },
     "execution_count": 24,
     "metadata": {},
     "output_type": "execute_result"
    }
   ],
   "source": [
    "from itertools import accumulate\n",
    "ac=accumulate([1, 2, 3,4,5])\n",
    "list(ac)\n"
   ]
  },
  {
   "cell_type": "code",
   "execution_count": 25,
   "metadata": {},
   "outputs": [
    {
     "data": {
      "text/plain": [
       "[1, 3, 6, 10, 15]"
      ]
     },
     "execution_count": 25,
     "metadata": {},
     "output_type": "execute_result"
    }
   ],
   "source": [
    "import operator\n",
    "ac=accumulate([1, 2, 3, 4,5], operator.add)\n",
    "list(ac)\n"
   ]
  },
  {
   "cell_type": "raw",
   "metadata": {},
   "source": [
    "فصل 8\n",
    "صفحه\n",
    "113"
   ]
  },
  {
   "cell_type": "code",
   "execution_count": 26,
   "metadata": {},
   "outputs": [
    {
     "data": {
      "text/plain": [
       "[1, 2, 6, 24, 120]"
      ]
     },
     "execution_count": 26,
     "metadata": {},
     "output_type": "execute_result"
    }
   ],
   "source": [
    "ac=accumulate([1, 2, 3, 4,5], operator.mul)\n",
    "list(ac)\n"
   ]
  },
  {
   "cell_type": "code",
   "execution_count": 27,
   "metadata": {},
   "outputs": [
    {
     "data": {
      "text/plain": [
       "[45, 22, 18, 8, 3]"
      ]
     },
     "execution_count": 27,
     "metadata": {},
     "output_type": "execute_result"
    }
   ],
   "source": [
    "ac=accumulate([45, 23, 4, 10,5], operator.sub)\n",
    "list(ac)\n"
   ]
  },
  {
   "cell_type": "code",
   "execution_count": 36,
   "metadata": {},
   "outputs": [],
   "source": [
    "from itertools import groupby\n",
    "nums=[1,1,1,2,3,3,3,2,2,2,4,4]\n",
    "grp=groupby(nums)\n"
   ]
  },
  {
   "cell_type": "code",
   "execution_count": 37,
   "metadata": {},
   "outputs": [
    {
     "name": "stdout",
     "output_type": "stream",
     "text": [
      "1 [1, 1, 1]\n",
      "2 [2]\n",
      "3 [3, 3, 3]\n",
      "2 [2, 2, 2]\n",
      "4 [4, 4]\n"
     ]
    }
   ],
   "source": [
    "for g , v in grp:\n",
    "    print(g, list(v))"
   ]
  },
  {
   "cell_type": "code",
   "execution_count": 38,
   "metadata": {},
   "outputs": [],
   "source": [
    "data = [{'month': 'Jan', 'T': 18},{'month': 'Feb', 'T': 20},{'month': 'Jan', 'T': 17},{'month': 'Feb', 'T': 21}, {'month': 'Jan', 'T': 16.5},{'month': 'Feb', 'T': 18}]\n",
    "from collections import defaultdict\n",
    "df=defaultdict(list)\n",
    "grp = groupby(data,key=lambda x: x['month'])\n",
    "for k , g in grp:\n",
    "    df[k].append(list(g)[0][\"T\"])\n"
   ]
  },
  {
   "cell_type": "code",
   "execution_count": 39,
   "metadata": {
    "scrolled": true
   },
   "outputs": [
    {
     "data": {
      "text/plain": [
       "[18, 17, 16.5]"
      ]
     },
     "execution_count": 39,
     "metadata": {},
     "output_type": "execute_result"
    }
   ],
   "source": [
    "df[\"Jan\"]"
   ]
  },
  {
   "cell_type": "raw",
   "metadata": {},
   "source": [
    "فصل 8\n",
    "صفحه\n",
    "114"
   ]
  },
  {
   "cell_type": "code",
   "execution_count": 40,
   "metadata": {},
   "outputs": [
    {
     "name": "stdout",
     "output_type": "stream",
     "text": [
      "[('A', 0), ('A', 1), ('B', 0), ('B', 1), ('C', 0), ('C', 1)]\n"
     ]
    }
   ],
   "source": [
    "from itertools import product\n",
    "letters=[\"A\",\"B\",\"C\"]\n",
    "print(list(product(letters,range(2))))\n"
   ]
  },
  {
   "cell_type": "code",
   "execution_count": 41,
   "metadata": {},
   "outputs": [
    {
     "data": {
      "text/plain": [
       "[('A', 'A'),\n",
       " ('A', 'B'),\n",
       " ('A', 'C'),\n",
       " ('B', 'A'),\n",
       " ('B', 'B'),\n",
       " ('B', 'C'),\n",
       " ('C', 'A'),\n",
       " ('C', 'B'),\n",
       " ('C', 'C')]"
      ]
     },
     "execution_count": 41,
     "metadata": {},
     "output_type": "execute_result"
    }
   ],
   "source": [
    "list(product(letters,letters))"
   ]
  },
  {
   "cell_type": "code",
   "execution_count": 44,
   "metadata": {},
   "outputs": [
    {
     "name": "stdout",
     "output_type": "stream",
     "text": [
      "[('A', 'B'), ('A', 'C'), ('B', 'A'), ('B', 'C'), ('C', 'A'), ('C', 'B')]\n"
     ]
    }
   ],
   "source": [
    "from itertools import permutations\n",
    "print(list(permutations(letters,2)))\n"
   ]
  },
  {
   "cell_type": "code",
   "execution_count": 47,
   "metadata": {},
   "outputs": [
    {
     "data": {
      "text/plain": [
       "[('A', 'B'), ('A', 'C'), ('B', 'C')]"
      ]
     },
     "execution_count": 47,
     "metadata": {},
     "output_type": "execute_result"
    }
   ],
   "source": [
    "from itertools import  combinations\n",
    "list(combinations(letters,2))\n"
   ]
  },
  {
   "cell_type": "code",
   "execution_count": 48,
   "metadata": {},
   "outputs": [
    {
     "data": {
      "text/plain": [
       "[('A', 'A'), ('A', 'B'), ('A', 'C'), ('B', 'B'), ('B', 'C'), ('C', 'C')]"
      ]
     },
     "execution_count": 48,
     "metadata": {},
     "output_type": "execute_result"
    }
   ],
   "source": [
    "from itertools import combinations_with_replacement\n",
    "cwr=combinations_with_replacement(letters,2)\n",
    "list(cwr)\n"
   ]
  },
  {
   "cell_type": "raw",
   "metadata": {},
   "source": [
    "فصل 8\n",
    "صفحه\n",
    "115"
   ]
  },
  {
   "cell_type": "code",
   "execution_count": 49,
   "metadata": {},
   "outputs": [],
   "source": [
    "theta_e = 0.486\n",
    "psi = 16.7\n",
    "K = 0.65\n",
    "S_e = 0.3\n",
    "t = 1\n",
    "dtheta = (1-S_e)*theta_e\n",
    "F_old = K*t\n",
    "epsilon = 1\n",
    "F = []\n",
    "import math\n",
    "while epsilon > 1e-4:\n",
    "\tF_new = psi*dtheta * math.log(1+F_old/(psi*dtheta)) + K*t\n",
    "\tepsilon = F_new - F_old\n",
    "\tF_old = F_new\n",
    "\tF.append(F_new)\n"
   ]
  },
  {
   "cell_type": "code",
   "execution_count": 51,
   "metadata": {},
   "outputs": [
    {
     "data": {
      "text/plain": [
       "3.1670531257440495"
      ]
     },
     "execution_count": 51,
     "metadata": {},
     "output_type": "execute_result"
    }
   ],
   "source": [
    "F[-1]"
   ]
  },
  {
   "cell_type": "code",
   "execution_count": null,
   "metadata": {},
   "outputs": [],
   "source": []
  }
 ],
 "metadata": {
  "kernelspec": {
   "display_name": "Python 3",
   "language": "python",
   "name": "python3"
  },
  "language_info": {
   "codemirror_mode": {
    "name": "ipython",
    "version": 3
   },
   "file_extension": ".py",
   "mimetype": "text/x-python",
   "name": "python",
   "nbconvert_exporter": "python",
   "pygments_lexer": "ipython3",
   "version": "3.7.6"
  }
 },
 "nbformat": 4,
 "nbformat_minor": 4
}
